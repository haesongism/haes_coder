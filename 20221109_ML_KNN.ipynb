{
  "cells": [
    {
      "cell_type": "markdown",
      "metadata": {
        "id": "view-in-github",
        "colab_type": "text"
      },
      "source": [
        "<a href=\"https://colab.research.google.com/github/haesongism/haes_coder/blob/main/20221109_ML_KNN.ipynb\" target=\"_parent\"><img src=\"https://colab.research.google.com/assets/colab-badge.svg\" alt=\"Open In Colab\"/></a>"
      ]
    },
    {
      "cell_type": "code",
      "execution_count": null,
      "metadata": {
        "id": "fkxCPWrtCGF1"
      },
      "outputs": [],
      "source": [
        "import pandas as pd\n",
        "import numpy as np\n",
        "import matplotlib.pyplot as pyplot\n",
        "import seaborn as sns"
      ]
    },
    {
      "cell_type": "markdown",
      "metadata": {
        "id": "VdSmjEe0D27l"
      },
      "source": [
        "## 데이터 불러오기"
      ]
    },
    {
      "cell_type": "code",
      "execution_count": null,
      "metadata": {
        "id": "ZUCse0pYDDAF"
      },
      "outputs": [],
      "source": [
        "# https://archive.ics.uci.edu/ml/datasets/wine\n",
        "# https://www.kaggle.com/datasets/akhil0007/wine-data\n",
        "file_url = 'https://raw.githubusercontent.com/bigdata-young/bigdata_16th/main/data/wine.csv'\n",
        "df = pd.read_csv(file_url)"
      ]
    },
    {
      "cell_type": "code",
      "execution_count": null,
      "metadata": {
        "colab": {
          "base_uri": "https://localhost:8080/"
        },
        "id": "3bsChBeFD6ol",
        "outputId": "d6949d6a-b841-4c7e-a44e-4c449afe3a8b"
      },
      "outputs": [
        {
          "name": "stdout",
          "output_type": "stream",
          "text": [
            "<class 'pandas.core.frame.DataFrame'>\n",
            "RangeIndex: 178 entries, 0 to 177\n",
            "Data columns (total 14 columns):\n",
            " #   Column                Non-Null Count  Dtype  \n",
            "---  ------                --------------  -----  \n",
            " 0   Class                 178 non-null    int64  \n",
            " 1   Alcohol               178 non-null    float64\n",
            " 2   Malic_Acid            178 non-null    float64\n",
            " 3   Ash                   178 non-null    float64\n",
            " 4   Ash_Alcanity          178 non-null    float64\n",
            " 5   Magnesium             178 non-null    int64  \n",
            " 6   Total_Phenols         178 non-null    float64\n",
            " 7   Flavanoids            178 non-null    float64\n",
            " 8   Nonflavanoid_Phenols  178 non-null    float64\n",
            " 9   Proanthocyanins       178 non-null    float64\n",
            " 10  Color_Intensity       178 non-null    float64\n",
            " 11  Hue                   178 non-null    float64\n",
            " 12  OD280                 178 non-null    float64\n",
            " 13  Proline               178 non-null    int64  \n",
            "dtypes: float64(11), int64(3)\n",
            "memory usage: 19.6 KB\n"
          ]
        }
      ],
      "source": [
        "df.info()"
      ]
    },
    {
      "cell_type": "markdown",
      "metadata": {
        "id": "wv0SuNdAD797"
      },
      "source": [
        "- 결측치 없음\n",
        "- 모두 수치화 된 data"
      ]
    },
    {
      "cell_type": "code",
      "execution_count": null,
      "metadata": {
        "colab": {
          "base_uri": "https://localhost:8080/",
          "height": 364
        },
        "id": "av0-yNEtED0-",
        "outputId": "7fc8b263-ea27-4fde-b1a1-b0687e865aa7"
      },
      "outputs": [
        {
          "data": {
            "text/html": [
              "\n",
              "  <div id=\"df-42036dd2-5c61-4b02-a888-3de26f26f6cb\">\n",
              "    <div class=\"colab-df-container\">\n",
              "      <div>\n",
              "<style scoped>\n",
              "    .dataframe tbody tr th:only-of-type {\n",
              "        vertical-align: middle;\n",
              "    }\n",
              "\n",
              "    .dataframe tbody tr th {\n",
              "        vertical-align: top;\n",
              "    }\n",
              "\n",
              "    .dataframe thead th {\n",
              "        text-align: right;\n",
              "    }\n",
              "</style>\n",
              "<table border=\"1\" class=\"dataframe\">\n",
              "  <thead>\n",
              "    <tr style=\"text-align: right;\">\n",
              "      <th></th>\n",
              "      <th>Class</th>\n",
              "      <th>Alcohol</th>\n",
              "      <th>Malic_Acid</th>\n",
              "      <th>Ash</th>\n",
              "      <th>Ash_Alcanity</th>\n",
              "      <th>Magnesium</th>\n",
              "      <th>Total_Phenols</th>\n",
              "      <th>Flavanoids</th>\n",
              "      <th>Nonflavanoid_Phenols</th>\n",
              "      <th>Proanthocyanins</th>\n",
              "      <th>Color_Intensity</th>\n",
              "      <th>Hue</th>\n",
              "      <th>OD280</th>\n",
              "      <th>Proline</th>\n",
              "    </tr>\n",
              "  </thead>\n",
              "  <tbody>\n",
              "    <tr>\n",
              "      <th>count</th>\n",
              "      <td>178.0000</td>\n",
              "      <td>178.0000</td>\n",
              "      <td>178.0000</td>\n",
              "      <td>178.0000</td>\n",
              "      <td>178.0000</td>\n",
              "      <td>178.0000</td>\n",
              "      <td>178.0000</td>\n",
              "      <td>178.0000</td>\n",
              "      <td>178.0000</td>\n",
              "      <td>178.0000</td>\n",
              "      <td>178.0000</td>\n",
              "      <td>178.0000</td>\n",
              "      <td>178.0000</td>\n",
              "      <td>178.0000</td>\n",
              "    </tr>\n",
              "    <tr>\n",
              "      <th>mean</th>\n",
              "      <td>1.9382</td>\n",
              "      <td>13.0006</td>\n",
              "      <td>2.3363</td>\n",
              "      <td>2.3665</td>\n",
              "      <td>19.4949</td>\n",
              "      <td>99.7416</td>\n",
              "      <td>2.2951</td>\n",
              "      <td>2.0293</td>\n",
              "      <td>0.3619</td>\n",
              "      <td>1.5909</td>\n",
              "      <td>5.0581</td>\n",
              "      <td>0.9574</td>\n",
              "      <td>2.6117</td>\n",
              "      <td>746.8933</td>\n",
              "    </tr>\n",
              "    <tr>\n",
              "      <th>std</th>\n",
              "      <td>0.7750</td>\n",
              "      <td>0.8118</td>\n",
              "      <td>1.1171</td>\n",
              "      <td>0.2743</td>\n",
              "      <td>3.3396</td>\n",
              "      <td>14.2825</td>\n",
              "      <td>0.6259</td>\n",
              "      <td>0.9989</td>\n",
              "      <td>0.1245</td>\n",
              "      <td>0.5724</td>\n",
              "      <td>2.3183</td>\n",
              "      <td>0.2286</td>\n",
              "      <td>0.7100</td>\n",
              "      <td>314.9075</td>\n",
              "    </tr>\n",
              "    <tr>\n",
              "      <th>min</th>\n",
              "      <td>1.0000</td>\n",
              "      <td>11.0300</td>\n",
              "      <td>0.7400</td>\n",
              "      <td>1.3600</td>\n",
              "      <td>10.6000</td>\n",
              "      <td>70.0000</td>\n",
              "      <td>0.9800</td>\n",
              "      <td>0.3400</td>\n",
              "      <td>0.1300</td>\n",
              "      <td>0.4100</td>\n",
              "      <td>1.2800</td>\n",
              "      <td>0.4800</td>\n",
              "      <td>1.2700</td>\n",
              "      <td>278.0000</td>\n",
              "    </tr>\n",
              "    <tr>\n",
              "      <th>25%</th>\n",
              "      <td>1.0000</td>\n",
              "      <td>12.3625</td>\n",
              "      <td>1.6025</td>\n",
              "      <td>2.2100</td>\n",
              "      <td>17.2000</td>\n",
              "      <td>88.0000</td>\n",
              "      <td>1.7425</td>\n",
              "      <td>1.2050</td>\n",
              "      <td>0.2700</td>\n",
              "      <td>1.2500</td>\n",
              "      <td>3.2200</td>\n",
              "      <td>0.7825</td>\n",
              "      <td>1.9375</td>\n",
              "      <td>500.5000</td>\n",
              "    </tr>\n",
              "    <tr>\n",
              "      <th>50%</th>\n",
              "      <td>2.0000</td>\n",
              "      <td>13.0500</td>\n",
              "      <td>1.8650</td>\n",
              "      <td>2.3600</td>\n",
              "      <td>19.5000</td>\n",
              "      <td>98.0000</td>\n",
              "      <td>2.3550</td>\n",
              "      <td>2.1350</td>\n",
              "      <td>0.3400</td>\n",
              "      <td>1.5550</td>\n",
              "      <td>4.6900</td>\n",
              "      <td>0.9650</td>\n",
              "      <td>2.7800</td>\n",
              "      <td>673.5000</td>\n",
              "    </tr>\n",
              "    <tr>\n",
              "      <th>75%</th>\n",
              "      <td>3.0000</td>\n",
              "      <td>13.6775</td>\n",
              "      <td>3.0825</td>\n",
              "      <td>2.5575</td>\n",
              "      <td>21.5000</td>\n",
              "      <td>107.0000</td>\n",
              "      <td>2.8000</td>\n",
              "      <td>2.8750</td>\n",
              "      <td>0.4375</td>\n",
              "      <td>1.9500</td>\n",
              "      <td>6.2000</td>\n",
              "      <td>1.1200</td>\n",
              "      <td>3.1700</td>\n",
              "      <td>985.0000</td>\n",
              "    </tr>\n",
              "    <tr>\n",
              "      <th>max</th>\n",
              "      <td>3.0000</td>\n",
              "      <td>14.8300</td>\n",
              "      <td>5.8000</td>\n",
              "      <td>3.2300</td>\n",
              "      <td>30.0000</td>\n",
              "      <td>162.0000</td>\n",
              "      <td>3.8800</td>\n",
              "      <td>5.0800</td>\n",
              "      <td>0.6600</td>\n",
              "      <td>3.5800</td>\n",
              "      <td>13.0000</td>\n",
              "      <td>1.7100</td>\n",
              "      <td>4.0000</td>\n",
              "      <td>1,680.0000</td>\n",
              "    </tr>\n",
              "  </tbody>\n",
              "</table>\n",
              "</div>\n",
              "      <button class=\"colab-df-convert\" onclick=\"convertToInteractive('df-42036dd2-5c61-4b02-a888-3de26f26f6cb')\"\n",
              "              title=\"Convert this dataframe to an interactive table.\"\n",
              "              style=\"display:none;\">\n",
              "        \n",
              "  <svg xmlns=\"http://www.w3.org/2000/svg\" height=\"24px\"viewBox=\"0 0 24 24\"\n",
              "       width=\"24px\">\n",
              "    <path d=\"M0 0h24v24H0V0z\" fill=\"none\"/>\n",
              "    <path d=\"M18.56 5.44l.94 2.06.94-2.06 2.06-.94-2.06-.94-.94-2.06-.94 2.06-2.06.94zm-11 1L8.5 8.5l.94-2.06 2.06-.94-2.06-.94L8.5 2.5l-.94 2.06-2.06.94zm10 10l.94 2.06.94-2.06 2.06-.94-2.06-.94-.94-2.06-.94 2.06-2.06.94z\"/><path d=\"M17.41 7.96l-1.37-1.37c-.4-.4-.92-.59-1.43-.59-.52 0-1.04.2-1.43.59L10.3 9.45l-7.72 7.72c-.78.78-.78 2.05 0 2.83L4 21.41c.39.39.9.59 1.41.59.51 0 1.02-.2 1.41-.59l7.78-7.78 2.81-2.81c.8-.78.8-2.07 0-2.86zM5.41 20L4 18.59l7.72-7.72 1.47 1.35L5.41 20z\"/>\n",
              "  </svg>\n",
              "      </button>\n",
              "      \n",
              "  <style>\n",
              "    .colab-df-container {\n",
              "      display:flex;\n",
              "      flex-wrap:wrap;\n",
              "      gap: 12px;\n",
              "    }\n",
              "\n",
              "    .colab-df-convert {\n",
              "      background-color: #E8F0FE;\n",
              "      border: none;\n",
              "      border-radius: 50%;\n",
              "      cursor: pointer;\n",
              "      display: none;\n",
              "      fill: #1967D2;\n",
              "      height: 32px;\n",
              "      padding: 0 0 0 0;\n",
              "      width: 32px;\n",
              "    }\n",
              "\n",
              "    .colab-df-convert:hover {\n",
              "      background-color: #E2EBFA;\n",
              "      box-shadow: 0px 1px 2px rgba(60, 64, 67, 0.3), 0px 1px 3px 1px rgba(60, 64, 67, 0.15);\n",
              "      fill: #174EA6;\n",
              "    }\n",
              "\n",
              "    [theme=dark] .colab-df-convert {\n",
              "      background-color: #3B4455;\n",
              "      fill: #D2E3FC;\n",
              "    }\n",
              "\n",
              "    [theme=dark] .colab-df-convert:hover {\n",
              "      background-color: #434B5C;\n",
              "      box-shadow: 0px 1px 3px 1px rgba(0, 0, 0, 0.15);\n",
              "      filter: drop-shadow(0px 1px 2px rgba(0, 0, 0, 0.3));\n",
              "      fill: #FFFFFF;\n",
              "    }\n",
              "  </style>\n",
              "\n",
              "      <script>\n",
              "        const buttonEl =\n",
              "          document.querySelector('#df-42036dd2-5c61-4b02-a888-3de26f26f6cb button.colab-df-convert');\n",
              "        buttonEl.style.display =\n",
              "          google.colab.kernel.accessAllowed ? 'block' : 'none';\n",
              "\n",
              "        async function convertToInteractive(key) {\n",
              "          const element = document.querySelector('#df-42036dd2-5c61-4b02-a888-3de26f26f6cb');\n",
              "          const dataTable =\n",
              "            await google.colab.kernel.invokeFunction('convertToInteractive',\n",
              "                                                     [key], {});\n",
              "          if (!dataTable) return;\n",
              "\n",
              "          const docLinkHtml = 'Like what you see? Visit the ' +\n",
              "            '<a target=\"_blank\" href=https://colab.research.google.com/notebooks/data_table.ipynb>data table notebook</a>'\n",
              "            + ' to learn more about interactive tables.';\n",
              "          element.innerHTML = '';\n",
              "          dataTable['output_type'] = 'display_data';\n",
              "          await google.colab.output.renderOutput(dataTable, element);\n",
              "          const docLink = document.createElement('div');\n",
              "          docLink.innerHTML = docLinkHtml;\n",
              "          element.appendChild(docLink);\n",
              "        }\n",
              "      </script>\n",
              "    </div>\n",
              "  </div>\n",
              "  "
            ],
            "text/plain": [
              "         Class  Alcohol  Malic_Acid      Ash  Ash_Alcanity  Magnesium  \\\n",
              "count 178.0000 178.0000    178.0000 178.0000      178.0000   178.0000   \n",
              "mean    1.9382  13.0006      2.3363   2.3665       19.4949    99.7416   \n",
              "std     0.7750   0.8118      1.1171   0.2743        3.3396    14.2825   \n",
              "min     1.0000  11.0300      0.7400   1.3600       10.6000    70.0000   \n",
              "25%     1.0000  12.3625      1.6025   2.2100       17.2000    88.0000   \n",
              "50%     2.0000  13.0500      1.8650   2.3600       19.5000    98.0000   \n",
              "75%     3.0000  13.6775      3.0825   2.5575       21.5000   107.0000   \n",
              "max     3.0000  14.8300      5.8000   3.2300       30.0000   162.0000   \n",
              "\n",
              "       Total_Phenols  Flavanoids  Nonflavanoid_Phenols  Proanthocyanins  \\\n",
              "count       178.0000    178.0000              178.0000         178.0000   \n",
              "mean          2.2951      2.0293                0.3619           1.5909   \n",
              "std           0.6259      0.9989                0.1245           0.5724   \n",
              "min           0.9800      0.3400                0.1300           0.4100   \n",
              "25%           1.7425      1.2050                0.2700           1.2500   \n",
              "50%           2.3550      2.1350                0.3400           1.5550   \n",
              "75%           2.8000      2.8750                0.4375           1.9500   \n",
              "max           3.8800      5.0800                0.6600           3.5800   \n",
              "\n",
              "       Color_Intensity      Hue    OD280    Proline  \n",
              "count         178.0000 178.0000 178.0000   178.0000  \n",
              "mean            5.0581   0.9574   2.6117   746.8933  \n",
              "std             2.3183   0.2286   0.7100   314.9075  \n",
              "min             1.2800   0.4800   1.2700   278.0000  \n",
              "25%             3.2200   0.7825   1.9375   500.5000  \n",
              "50%             4.6900   0.9650   2.7800   673.5000  \n",
              "75%             6.2000   1.1200   3.1700   985.0000  \n",
              "max            13.0000   1.7100   4.0000 1,680.0000  "
            ]
          },
          "execution_count": 6,
          "metadata": {},
          "output_type": "execute_result"
        }
      ],
      "source": [
        "pd.options.display.float_format = '{:,.4f}'.format\n",
        "df.describe()"
      ]
    },
    {
      "cell_type": "markdown",
      "metadata": {
        "id": "L6Xr2El1EGED"
      },
      "source": [
        "- KNN: 거리기반, 숫자 단위에 민감 > Scailing pre-processing 필수"
      ]
    },
    {
      "cell_type": "code",
      "execution_count": null,
      "metadata": {
        "colab": {
          "base_uri": "https://localhost:8080/"
        },
        "id": "TaTc2XKlElSm",
        "outputId": "e32bf342-071d-41c9-85cf-5b212f3304e4"
      },
      "outputs": [
        {
          "data": {
            "text/plain": [
              "2    71\n",
              "1    59\n",
              "3    48\n",
              "Name: Class, dtype: int64"
            ]
          },
          "execution_count": 8,
          "metadata": {},
          "output_type": "execute_result"
        }
      ],
      "source": [
        "df.Class.value_counts()"
      ]
    },
    {
      "cell_type": "code",
      "execution_count": null,
      "metadata": {
        "colab": {
          "base_uri": "https://localhost:8080/",
          "height": 282
        },
        "id": "BcTLh55zEwZV",
        "outputId": "e3747f53-a19e-463c-f581-25e25215350d"
      },
      "outputs": [
        {
          "data": {
            "text/plain": [
              "<matplotlib.axes._subplots.AxesSubplot at 0x7f17e624dbd0>"
            ]
          },
          "execution_count": 10,
          "metadata": {},
          "output_type": "execute_result"
        },
        {
          "data": {
            "image/png": "[encoded data removed]",
            "text/plain": [
              "<Figure size 432x288 with 1 Axes>"
            ]
          },
          "metadata": {},
          "output_type": "display_data"
        }
      ],
      "source": [
        "value_counts = df.Class.value_counts()\n",
        "\n",
        "# column 'Class' 분포 시각화 확인\n",
        "sns.barplot(x = value_counts.index, y = value_counts)"
      ]
    },
    {
      "cell_type": "markdown",
      "metadata": {
        "id": "nP1jSPY1E4a8"
      },
      "source": [
        "## 스케일링\n",
        "* 데이터의 스케일(Scale, 범위)을 맞추는 작업\n",
        "* K-최근접 이웃은 거리 기반의 알고리즘이기 때문에 이러한 스케일 차이는 결과를 왜곡할 수 있음\n",
        "* 스케일링은 이러한 문제를 해결하기 위해 인위적으로 각 컬럼(변수)이 비슷한 범위를 가지도록 만드는 작업\n",
        "* 데이터를 **동등한 수준**에서 연산하게 함\n",
        "\n",
        "#### 스케일링 종류\n",
        "|종류|설명\n",
        "|-|-|\n",
        "|표준화 스케일링 Standarad Scaling|평균이 0이 되고, 표준편차가 1이 되도록 데이터를 고르게 분포시키는 데 사용|\n",
        "|로버스트 스케일링 Robust Scaling|데이터에 아웃라이어가 존재하고, 그 영향력을 그대로 유지하고 싶을 때 사용|\n",
        "|최소-최대 스케일링 Min-Max Scaling|데이터 분포의 특성을 최대한 그대로 유지하고 싶을 때 사용\n",
        "|정규화 스케일링Normalizer Scaling|행 기준의 스케일링이 필요할 때 사용하나, 실제로 거의 사용하지 않음"
      ]
    },
    {
      "cell_type": "markdown",
      "metadata": {
        "id": "FPefMob6JwDo"
      },
      "source": [
        "- 평균을 사용하면 Outlier(이상치)에게 당한다!"
      ]
    },
    {
      "cell_type": "markdown",
      "metadata": {
        "id": "aAGFfE1AI6-6"
      },
      "source": [
        "#### 표준화 스케일링\n",
        "> 데이터를 표준정규분포 형태로 변형\n",
        "\n",
        "$x_i-mean(x)\\over sd(x)$\n",
        "\n",
        "* $x_i$ : 변수의 i번째 값\n",
        "* $mean(x)$ : 해당 변수의 평균\n",
        "* $sd(x)$ : 해당 변수의 표준편차\n"
      ]
    },
    {
      "cell_type": "markdown",
      "metadata": {
        "id": "SBo__-t8JjWg"
      },
      "source": [
        "#### 로버스트 스케일링\n",
        "> 사분위값을 이용하여 계산\n",
        "\n",
        "$x_i-Q_2(x)\\over Q_3(x)-Q_1(x)$\n",
        "\n",
        "* $x_i$ : 변수의 i번째 값\n",
        "* $Q_1(x)$ : 25% 지점\n",
        "* $Q_2(x)$ : 50% 지점 (변수의 중윗값)\n",
        "* $Q_3(x)$ : 75% 지점"
      ]
    },
    {
      "cell_type": "markdown",
      "metadata": {
        "id": "5wPZhS8yKPup"
      },
      "source": [
        "#### 최소-최대 스케일링\n",
        "> 최솟값, 최댓값을 사용하여 스케일링, 모든 컬럼에서 최댓값이 1, 최솟값이 0인 형태로 변환됨\n",
        "\n",
        "$x_i-min(x)\\over max(x)-min(x)$\n",
        "\n",
        "* $x_i$ : 변수의 i번째 값\n",
        "* $min(x)$ : 최솟값\n",
        "* $max(x)$ : 최댓값"
      ]
    },
    {
      "cell_type": "markdown",
      "metadata": {
        "id": "Z6PSl1i8KruF"
      },
      "source": [
        "#### 스케일링 방식 선택 기준\n",
        "* 아웃라이어의 유무 : 아웃라이어 영향이 클 시: `로버스트 스케일링` (4분위값 이용)\n",
        "* 데이터의 기존 분포를 최대한 유지해야할 시 : `최소-최대 스케일링`\n",
        "* 기존 데이터가 정규분포를 따르고 있고 아웃라이어가 없는 상황 : `표준화 스케일링`"
      ]
    },
    {
      "cell_type": "markdown",
      "metadata": {
        "id": "cvUjNiKXK6R-"
      },
      "source": [
        "#### 스케일링별 특징\n",
        "|구분|결과물의 특징|\n",
        "|-|-|\n",
        "|표준화 스케일링|아웃라이어의 영향을 받음.<br>평균 0, 분산 1이 되게끔 분포시키기 때문에, **데이터의 기존 분포 형태가 사라지고** 정규분포를 따르는 결과물을 가져 옴|\n",
        "|로버스트 스케일링|데이터에 아웃라이어가 존재할 때,<br> **아웃라이어의 영향을 받지 않음**.<br>변환된 데이터의 범위는 표준화 스케일링이나 최소-최대 스케일링보다 넓게 나타남|\n",
        "|최소-최대 스케일링|아웃라이어의 영향을 받음.<br>위의 두 스케일러와 비교했을 때, **데이터의 기존 분포를 가장 있는 그대로 담아내며 스케일만 변화**시킴.<br>데이터의 범위는 0~1로 나타남|"
      ]
    },
    {
      "cell_type": "markdown",
      "metadata": {
        "id": "_fg7Md_uK7i9"
      },
      "source": [
        "#### 스케일링 적용 시 주의점\n",
        "* 스케일링 대상에서 `종속변수`를 제외: 종속변수가 machine learning 학습 대상이다\n",
        "* 스케일링 전 `train set`과 `test set`을 구분: modeling에 영향을 끼치는 것들은 미리 선정"
      ]
    },
    {
      "cell_type": "markdown",
      "metadata": {
        "id": "aaU8tA6iL2nS"
      },
      "source": [
        "## KNN 알고리즘 Data 처리 단계\n",
        "\n",
        "1. 데이터 특성 보기 (`info`, `describe`)\n",
        "\n",
        "2. 결측치 채워주기\n",
        "\n",
        "3. 범주형 data > 더미 변수화\n",
        "\n",
        "4. train set, test set 추출\n",
        "\n",
        "5. Scailing: train set을 통해서 만들어진 scaler로 test set scailing"
      ]
    },
    {
      "cell_type": "markdown",
      "metadata": {
        "id": "WrqUzNwaMgSX"
      },
      "source": [
        "- Scailing: Outlier의 영향 줄이기, 범위에 따른 거리의 왜곡 줄이기\n",
        "\n",
        "  - 훈련의 대상이 되는 데이터 vs. 시험의 대상이 되는 데이터: 독립돼 있어야 함\n",
        "\n",
        "    - 만약 둘을 합쳐서 Scailing을 하면, scale의 기준 data(min-max, mean, 4분위 값)이 공유됨\n",
        "\n",
        "    - train set을 대상으로만 scailing: scaler 학습 (train set 학습 scaler)\n",
        "\n",
        "      - test set도 이미 학습된 scaler(train set 학습된 scaler)로 scailing을 진행"
      ]
    },
    {
      "cell_type": "code",
      "execution_count": null,
      "metadata": {
        "id": "Y_lunJPHNvbU"
      },
      "outputs": [],
      "source": [
        "# train set과 test set 분리\n",
        "from sklearn.model_selection import train_test_split\n",
        "X_train, X_test, y_train, y_test = train_test_split(\n",
        "    # 'Class' column: 종속 변수\n",
        "    df.drop('Class', axis=1),\n",
        "    df.Class, test_size = 0.2, random_state = 100\n",
        ")"
      ]
    },
    {
      "cell_type": "code",
      "execution_count": null,
      "metadata": {
        "id": "AgbYyQMMOTUz"
      },
      "outputs": [],
      "source": [
        "# 최대-최소 스케일러 사용: Outlier 심하지 않음\n",
        "from sklearn.preprocessing import MinMaxScaler\n",
        "\n",
        "mm_scaler = MinMaxScaler()\n",
        "\n",
        "# scaler 학습\n",
        "mm_scaler.fit(X_train)\n",
        "\n",
        "X_train_scaled = mm_scaler.transform(X_train)\n",
        "X_train_scaled"
      ]
    },
    {
      "cell_type": "code",
      "execution_count": null,
      "metadata": {
        "colab": {
          "base_uri": "https://localhost:8080/"
        },
        "id": "IndMCdZWOzWE",
        "outputId": "ae3704cc-402a-4ab6-decf-346044789eb5"
      },
      "outputs": [
        {
          "data": {
            "text/plain": [
              "array([[ 0.16052632,  0.26086957,  0.58823529,  0.56701031,  0.20289855,\n",
              "         0.3057554 ,  0.26464208,  0.63265306,  0.29652997,  0.16170213,\n",
              "         0.38793103,  0.54212454,  0.28673324],\n",
              "       [ 0.64473684,  0.18379447,  0.68449198,  0.61340206,  0.27536232,\n",
              "         0.53956835,  0.13665944,  0.71428571,  0.59305994,  1.11382979,\n",
              "         0.01724138,  0.18681319,  0.24393723],\n",
              "       [ 0.81315789,  0.14624506,  0.51336898,  0.31958763,  0.36231884,\n",
              "         0.39568345,  0.42516269,  0.18367347,  0.3659306 ,  0.39574468,\n",
              "         0.53448276,  0.56776557,  0.7146933 ],\n",
              "       [ 0.24473684,  0.06916996,  0.5026738 ,  0.53608247,  0.44927536,\n",
              "         0.82014388,  0.36225597, -0.08163265,  0.39116719,  0.20531915,\n",
              "         0.37931034,  0.68131868,  0.43366619],\n",
              "       [ 0.87105263,  0.18577075,  0.71657754,  0.74226804,  0.4057971 ,\n",
              "         0.61151079,  0.18221258,  0.73469388,  0.72239748,  1.24680851,\n",
              "         0.01724138,  0.25274725,  0.2724679 ],\n",
              "       [ 0.53947368,  0.62450593,  0.53475936,  0.56185567,  0.62318841,\n",
              "         0.11151079,  0.19956616,  0.34693878,  0.23028391,  0.86382979,\n",
              "         0.01724138,  0.02197802,  0.19400856],\n",
              "       [ 0.33157895,  0.48023715,  0.45454545,  0.3814433 ,  0.26086957,\n",
              "         0.6294964 ,  0.54663774,  0.57142857,  0.75709779,  0.10851064,\n",
              "         0.75      ,  0.57142857,  0.09129815],\n",
              "       [ 0.20526316,  0.27272727,  0.73796791,  0.56185567,  0.92753623,\n",
              "         0.17985612,  0.11279826, -0.06122449,  0.36277603,  0.12978723,\n",
              "         0.34482759,  0.36263736,  0.24750357],\n",
              "       [ 0.27631579,  0.21541502,  0.51336898,  0.40721649,  0.15942029,\n",
              "         0.17985612,  0.22342733,  0.71428571,  0.38801262,  0.11914894,\n",
              "         0.45689655,  0.36630037,  0.14407989],\n",
              "       [ 0.37894737,  0.1541502 ,  0.44919786,  0.43298969,  1.33333333,\n",
              "         0.50359712,  0.39045553,  0.30612245,  0.90536278,  0.14042553,\n",
              "         0.52586207,  0.4981685 ,  0.4700428 ],\n",
              "       [ 0.38947368,  0.09881423,  0.47593583,  0.3556701 ,  0.2173913 ,\n",
              "         0.32374101,  0.02386117,  0.87755102,  0.26498423,  0.44361702,\n",
              "         0.17241379,  0.08791209,  0.26533524],\n",
              "       [ 0.35263158,  0.09288538,  0.64171123,  0.38659794,  0.4057971 ,\n",
              "         0.47482014,  0.47288503,  0.40816327,  0.52681388,  0.35319149,\n",
              "         0.55172414,  0.37728938,  0.2853067 ],\n",
              "       [ 0.45789474,  0.32608696,  0.49197861,  0.45876289,  0.23188406,\n",
              "         0.10431655,  0.00867679,  0.63265306,  0.07255521,  0.91702117,\n",
              "         0.01724138,  0.13186813,  0.13694722],\n",
              "       [ 0.71052632,  0.71541502,  0.48128342,  0.61340206,  0.26086957,\n",
              "         0.0647482 ,  0.        ,  0.71428571,  0.23343849,  0.56808511,\n",
              "         0.19827586,  0.17582418,  0.17261056],\n",
              "       [ 0.62368421,  0.76284585,  0.80213904,  0.74226804,  0.60869565,\n",
              "         0.31654676,  0.10629067,  0.20408163,  0.22082019,  0.76808511,\n",
              "         0.10344828,  0.23809524,  0.2510699 ],\n",
              "       [ 0.68421053,  0.21146245,  0.71657754,  0.34020619,  0.60869565,\n",
              "         0.6294964 ,  0.52928416,  0.26530612,  0.33123028,  0.64042553,\n",
              "         0.62931034,  0.58974359,  0.7360913 ],\n",
              "       [ 0.56052632,  0.55928854,  0.42245989,  0.53608247,  0.46376812,\n",
              "         0.14388489,  0.01735358,  0.53061224,  0.2807571 ,  0.2893617 ,\n",
              "         0.04310345,  0.15018315,  0.39372325],\n",
              "       [ 0.79736842,  0.27865613,  0.6684492 ,  0.36082474,  0.73913043,\n",
              "         0.53956835,  0.44251627,  0.28571429,  0.26498423,  0.40106383,\n",
              "         0.43965517,  0.84615385,  0.7253923 ],\n",
              "       [ 0.21315789,  0.42490119,  0.46524064,  0.3814433 ,  0.60869565,\n",
              "         0.22302158,  0.18438178,  0.53061224,  0.170347  ,  0.14574468,\n",
              "         0.35344828,  0.45787546,  0.15834522],\n",
              "       [ 0.62631579,  0.61264822,  0.40641711,  0.42268041,  0.28985507,\n",
              "         0.48561151,  0.47939262,  0.20408163,  0.33753943,  0.31914894,\n",
              "         0.31034483,  0.63369963,  0.53994294],\n",
              "       [ 0.65      ,  0.47035573,  0.67379679,  0.69072165,  0.76811594,\n",
              "         0.10791367,  0.23861171,  0.10204082,  0.26498423,  0.7787234 ,\n",
              "         0.03448276,  0.01098901,  0.15834522],\n",
              "       [ 0.69736842,  0.21541502,  0.53475936,  0.34020619,  0.49275362,\n",
              "         0.47482014,  0.48156182,  0.51020408,  0.49211356,  0.27234043,\n",
              "         0.5862069 ,  0.58608059,  0.50784593],\n",
              "       [ 0.45789474,  0.53162055,  0.3315508 ,  0.27835052,  0.14492754,\n",
              "         0.19064748,  0.1691974 ,  0.53061224,  0.13249211,  0.22553191,\n",
              "         0.12931034,  0.31135531,  0.06704708],\n",
              "       [ 0.43684211,  0.15612648,  0.48128342,  0.52061856,  0.14492754,\n",
              "         0.10071942,  0.21475054,  0.83673469,  0.38170347,  0.18829787,\n",
              "         0.35344828,  0.28937729,  0.15477889],\n",
              "       [ 0.66578947,  0.1916996 ,  0.50802139,  0.28865979,  0.68115942,\n",
              "         0.73741007,  0.61171367,  0.34693878,  0.60883281,  0.51595745,\n",
              "         0.34482759,  0.77289377,  0.36875892],\n",
              "       [ 0.57105263,  0.2055336 ,  0.4171123 ,  0.03092784,  0.43478261,\n",
              "         0.55755396,  0.4967462 ,  0.18367347,  0.27444795,  0.32978723,\n",
              "         0.43103448,  0.78021978,  0.55064194],\n",
              "       [ 0.16578947,  0.22529644,  0.29946524,  0.27835052,  0.39130435,\n",
              "         0.18345324,  0.23861171,  0.34693878,  0.23343849,  0.26808511,\n",
              "         0.5862069 ,  0.31868132,  0.10699001],\n",
              "       [ 0.27631579,  0.1284585 ,  0.60962567,  0.61340206,  0.20289855,\n",
              "         0.52517986,  0.39479393,  0.53061224,  0.19873817,  0.17234043,\n",
              "         0.32758621,  0.7032967 ,  0.07631954],\n",
              "       [ 0.3       ,  0.14031621,  0.62566845,  0.43298969,  0.49275362,\n",
              "         0.28417266,  0.27765727,  0.57142857,  0.1955836 ,  0.17765957,\n",
              "         0.77586207,  0.35164835,  0.05492154],\n",
              "       [ 0.50789474,  0.53557312,  0.52941176,  0.40721649,  0.52173913,\n",
              "         0.10431655,  0.04989154,  0.46938776,  0.16719243,  0.42553191,\n",
              "         0.11206897,  0.17582418,  0.2831669 ],\n",
              "       [ 0.48421053,  0.76482213,  0.59893048,  0.56185567,  0.23188406,\n",
              "         0.21582734,  0.03904555,  0.6122449 ,  0.14195584,  0.67765957,\n",
              "        -0.00862069,  0.21611722,  0.24750357],\n",
              "       [ 0.31052632,  0.08893281,  0.20855615,  0.31958763,  1.17391304,\n",
              "         0.26978417,  0.17570499, -0.06122449,  0.65930599,  0.16702128,\n",
              "         0.62931034,  0.65934066,  0.31383738],\n",
              "       [ 0.62105263,  0.20355731,  0.67379679,  0.28350515,  0.33333333,\n",
              "         0.6294964 ,  0.53579176,  0.34693878,  0.32807571,  0.37446809,\n",
              "         0.31896552,  0.71428571,  0.65406562],\n",
              "       [ 0.33157895,  0.13241107,  0.3315508 ,  0.27835052,  0.2173913 ,\n",
              "         0.52158273,  0.44034707,  0.24489796,  0.42902208,  0.17234043,\n",
              "         0.5862069 ,  0.53846154,  0.10699001],\n",
              "       [ 0.75      ,  0.84980237,  0.46524064,  0.48453608,  0.14492754,\n",
              "        -0.04316547, -0.02819957,  0.46938776,  0.0851735 ,  0.38510638,\n",
              "         0.02586207,  0.02197802,  0.09771755],\n",
              "       [ 0.46315789,  0.38142292,  0.59893048,  0.58762887,  0.60869565,\n",
              "         0.13669065,  0.19305857,  0.14285714,  0.2681388 ,  1.01276596,\n",
              "        -0.06034483,  0.07326007,  0.14407989]])"
            ]
          },
          "execution_count": 21,
          "metadata": {},
          "output_type": "execute_result"
        }
      ],
      "source": [
        "# scaler 학습 축약\n",
        "X_train_scaled = mm_scaler.fit_transform(X_train)\n",
        "X_test_scaled = mm_scaler.transform(X_test)\n",
        "\n",
        "X_test_scaled"
      ]
    },
    {
      "cell_type": "markdown",
      "metadata": {
        "id": "2aplgVdNO5qj"
      },
      "source": [
        "## 모델링"
      ]
    },
    {
      "cell_type": "code",
      "execution_count": null,
      "metadata": {
        "id": "wvgu5fyDPkCr"
      },
      "outputs": [],
      "source": [
        "from sklearn.neighbors import KNeighborsClassifier"
      ]
    },
    {
      "cell_type": "code",
      "execution_count": null,
      "metadata": {
        "colab": {
          "base_uri": "https://localhost:8080/"
        },
        "id": "j4qHvZ-RPqZw",
        "outputId": "f6a2c642-a6ad-48b4-ab6c-a6426fdcdecd"
      },
      "outputs": [
        {
          "data": {
            "text/plain": [
              "array([2, 3, 1, 2, 3, 3, 2, 3, 2, 1, 3, 1, 3, 3, 3, 1, 3, 1, 2, 1, 3, 1,\n",
              "       3, 2, 1, 1, 2, 2, 2, 3, 3, 2, 1, 2, 3, 3])"
            ]
          },
          "execution_count": 22,
          "metadata": {},
          "output_type": "execute_result"
        }
      ],
      "source": [
        "knn = KNeighborsClassifier()\n",
        "knn.fit(X_train_scaled, y_train)\n",
        "pred = knn.predict(X_test_scaled)\n",
        "\n",
        "pred"
      ]
    },
    {
      "cell_type": "code",
      "execution_count": null,
      "metadata": {
        "colab": {
          "base_uri": "https://localhost:8080/"
        },
        "id": "VP-w7gL2P-kT",
        "outputId": "0ecc022a-a8d2-4965-b472-622fe4700ae7"
      },
      "outputs": [
        {
          "data": {
            "text/plain": [
              "0.8888888888888888"
            ]
          },
          "execution_count": 24,
          "metadata": {},
          "output_type": "execute_result"
        }
      ],
      "source": [
        "from sklearn.metrics import accuracy_score\n",
        "accuracy_score(y_test, pred)"
      ]
    },
    {
      "cell_type": "code",
      "execution_count": null,
      "metadata": {
        "colab": {
          "base_uri": "https://localhost:8080/"
        },
        "id": "yRWSgaZUQIK-",
        "outputId": "875f1a08-fa05-4a86-cd47-60a8f48c6bfb"
      },
      "outputs": [
        {
          "data": {
            "text/plain": [
              "0.6388888888888888"
            ]
          },
          "execution_count": 29,
          "metadata": {},
          "output_type": "execute_result"
        }
      ],
      "source": [
        "# Scailing되지 않은 data set(X_train) 사용\n",
        "knn2 = KNeighborsClassifier()\n",
        "knn2.fit(X_train, y_train)\n",
        "pred2 = knn2.predict(X_test)\n",
        "\n",
        "accuracy_score(y_test, pred2)"
      ]
    },
    {
      "cell_type": "markdown",
      "metadata": {
        "id": "lW3WCK9oQkEn"
      },
      "source": [
        "### 하이퍼파라미터 튜닝(Hyperparameter tuning or optimization)\n",
        "- parameter를 통해서 algorithms에 들어가는 values setting\n",
        "  - 항상 같은 parameter value가 적용되는 게 맞을까?\n",
        "\n",
        "`KNeighborsClassifier` : 분류 문제 알고리즘<br>\n",
        "cf. `KNeighborsRegressor` : 회귀 문제 알고리즘\n",
        "주요 패러미터(default)\n",
        "- **`n_neighbors=5` : 예측에 참고할 이웃 수**\n",
        "- `weights='uniform'` : 예측에 사용되는 가중치 함수로 기본값인 uniform은 모든 포인트에 동일한 가중치가 부여.\n",
        "('uniform', 'distance', 사용자 정의 함수)\n",
        "- `metric='minkowski'` : 거리 측정 기준 (DistanceMetric)\n",
        "- `n_jobs=None` : 실행할 병렬 작업 수\n",
        "\n",
        "> 별도로 지정해주지 않으면 기본값으로 반영<br>\n",
        "> 알고리즘에 쓰이는 매개변수를 조정 = **Hyperparameter tuning**"
      ]
    },
    {
      "cell_type": "code",
      "execution_count": null,
      "metadata": {
        "id": "DsUI2FohRNF2"
      },
      "outputs": [],
      "source": [
        "# hyperparameter tuning 함수화\n",
        "def tuning(n: int) -> float:\n",
        "  knn = KNeighborsClassifier(n_neighbors=n)\n",
        "  # fit할 때 setting됨\n",
        "  knn.fit(X_train_scaled, y_train)\n",
        "\n",
        "  pred = knn.predict(X_test_scaled)\n",
        "  score = accuracy_score(y_test, pred)\n",
        "  return score"
      ]
    },
    {
      "cell_type": "code",
      "execution_count": null,
      "metadata": {
        "colab": {
          "base_uri": "https://localhost:8080/"
        },
        "id": "f36RV78STEwE",
        "outputId": "5bacd4da-c80b-4fab-d78a-0877b05dceec"
      },
      "outputs": [
        {
          "data": {
            "text/plain": [
              "0.9166666666666666"
            ]
          },
          "execution_count": 31,
          "metadata": {},
          "output_type": "execute_result"
        }
      ],
      "source": [
        "# n_neighbors=1일 때 tuning된 pred로 accuracy_score() return값\n",
        "tuning(1)"
      ]
    },
    {
      "cell_type": "code",
      "execution_count": null,
      "metadata": {
        "colab": {
          "base_uri": "https://localhost:8080/"
        },
        "id": "QTsfwgLwTGUy",
        "outputId": "56b4ff31-ba7d-41e0-c052-783ce86318d9"
      },
      "outputs": [
        {
          "data": {
            "text/plain": [
              "[0.9166666666666666,\n",
              " 0.8611111111111112,\n",
              " 0.9166666666666666,\n",
              " 0.9166666666666666,\n",
              " 0.8888888888888888,\n",
              " 0.9166666666666666,\n",
              " 0.9444444444444444,\n",
              " 0.9166666666666666,\n",
              " 0.8888888888888888,\n",
              " 0.8888888888888888,\n",
              " 0.9444444444444444,\n",
              " 0.9444444444444444,\n",
              " 0.9722222222222222,\n",
              " 0.9444444444444444,\n",
              " 0.9444444444444444,\n",
              " 0.9444444444444444,\n",
              " 0.9166666666666666,\n",
              " 0.9722222222222222,\n",
              " 0.9444444444444444,\n",
              " 0.9722222222222222]"
            ]
          },
          "execution_count": 32,
          "metadata": {},
          "output_type": "execute_result"
        }
      ],
      "source": [
        "# 1부터 20까지 tuning() chck\n",
        "# for i in range(1, 21):\n",
        "#   print(tuning(i))\n",
        "[tuning(i+1) for i in range(20)]"
      ]
    },
    {
      "cell_type": "code",
      "execution_count": null,
      "metadata": {
        "colab": {
          "base_uri": "https://localhost:8080/"
        },
        "id": "y1NMFqyCXHOG",
        "outputId": "45a6eee9-0bd2-4fe4-cdd3-824be721ff22"
      },
      "outputs": [
        {
          "data": {
            "text/plain": [
              "[(1, 0.9166666666666666),\n",
              " (2, 0.8611111111111112),\n",
              " (3, 0.9166666666666666),\n",
              " (4, 0.9166666666666666),\n",
              " (5, 0.8888888888888888),\n",
              " (6, 0.9166666666666666),\n",
              " (7, 0.9444444444444444),\n",
              " (8, 0.9166666666666666),\n",
              " (9, 0.8888888888888888),\n",
              " (10, 0.8888888888888888),\n",
              " (11, 0.9444444444444444),\n",
              " (12, 0.9444444444444444),\n",
              " (13, 0.9722222222222222),\n",
              " (14, 0.9444444444444444),\n",
              " (15, 0.9444444444444444),\n",
              " (16, 0.9444444444444444),\n",
              " (17, 0.9166666666666666),\n",
              " (18, 0.9722222222222222),\n",
              " (19, 0.9444444444444444),\n",
              " (20, 0.9722222222222222)]"
            ]
          },
          "execution_count": 34,
          "metadata": {},
          "output_type": "execute_result"
        }
      ],
      "source": [
        "k_list = [(i, tuning(i)) for i in range(1, 21)]\n",
        "\n",
        "k_list"
      ]
    },
    {
      "cell_type": "code",
      "execution_count": null,
      "metadata": {
        "colab": {
          "base_uri": "https://localhost:8080/"
        },
        "id": "oiYPkDYmX5D6",
        "outputId": "c236afa9-501c-4bf8-8fb2-0b8182001987"
      },
      "outputs": [
        {
          "data": {
            "text/plain": [
              "[(13, 0.9722222222222222),\n",
              " (18, 0.9722222222222222),\n",
              " (20, 0.9722222222222222),\n",
              " (7, 0.9444444444444444),\n",
              " (11, 0.9444444444444444),\n",
              " (12, 0.9444444444444444),\n",
              " (14, 0.9444444444444444),\n",
              " (15, 0.9444444444444444),\n",
              " (16, 0.9444444444444444),\n",
              " (19, 0.9444444444444444),\n",
              " (1, 0.9166666666666666),\n",
              " (3, 0.9166666666666666),\n",
              " (4, 0.9166666666666666),\n",
              " (6, 0.9166666666666666),\n",
              " (8, 0.9166666666666666),\n",
              " (17, 0.9166666666666666),\n",
              " (5, 0.8888888888888888),\n",
              " (9, 0.8888888888888888),\n",
              " (10, 0.8888888888888888),\n",
              " (2, 0.8611111111111112)]"
            ]
          },
          "execution_count": 35,
          "metadata": {},
          "output_type": "execute_result"
        }
      ],
      "source": [
        "# accuracy_score 내림차순 정렬\n",
        "sorted(k_list, key=lambda x: x[1], reverse=True)"
      ]
    },
    {
      "cell_type": "markdown",
      "metadata": {
        "id": "SS5pt0ssYJzA"
      },
      "source": [
        "## KNN 알고리즘 이해\n",
        "* KNN 알고리즘 : 새로운 데이터를 예측할 때, 거리를 기반으로 하여 인접한 데이터과 같은 종류로 분류\n",
        "* 변수의 스케일 간의 격차가 클 경우, 산출되는 거리값이 왜곡될 수 있음\n",
        "* 거리가 동점일 경우\n",
        "  * 사이킷런 : 랜덤으로 분류함\n",
        "  * n을 홀수로 하면 동점을 근본적으로 막을 수 있음\n",
        "  * 그럼에도 짝수를 써야한다면 weights를 통해 가중치를 줌"
      ]
    },
    {
      "cell_type": "markdown",
      "metadata": {
        "id": "LwHpl5S1Yg2D"
      },
      "source": [
        "## 연습\n",
        "- 타이타닉 데이터에 KNN을 통해 분류 진행\n",
        "- 스케일러(표준화, 로버스트, 최소-최대)별 결과 비교"
      ]
    },
    {
      "cell_type": "markdown",
      "metadata": {
        "id": "qcOfG_THYq0n"
      },
      "source": [
        "## Titanic Data Modeling by KNN Algorithm\n",
        "\n",
        "1. Data 수집\n",
        "\n",
        "2. Data pre-processing\n",
        "\n",
        "3. 모델 학습\n",
        "\n",
        "4. 모델 평가"
      ]
    },
    {
      "cell_type": "markdown",
      "metadata": {
        "id": "qK8V0J4lZB7_"
      },
      "source": [
        "### 1. Data 수집"
      ]
    },
    {
      "cell_type": "code",
      "execution_count": null,
      "metadata": {
        "colab": {
          "base_uri": "https://localhost:8080/",
          "height": 502
        },
        "id": "OT09TM9wZlBu",
        "outputId": "d959ae38-4efc-445d-dfd6-8660fb94aefc"
      },
      "outputs": [
        {
          "data": {
            "text/html": [
              "\n",
              "  <div id=\"df-ec812312-7828-482f-b04a-d55087659619\">\n",
              "    <div class=\"colab-df-container\">\n",
              "      <div>\n",
              "<style scoped>\n",
              "    .dataframe tbody tr th:only-of-type {\n",
              "        vertical-align: middle;\n",
              "    }\n",
              "\n",
              "    .dataframe tbody tr th {\n",
              "        vertical-align: top;\n",
              "    }\n",
              "\n",
              "    .dataframe thead th {\n",
              "        text-align: right;\n",
              "    }\n",
              "</style>\n",
              "<table border=\"1\" class=\"dataframe\">\n",
              "  <thead>\n",
              "    <tr style=\"text-align: right;\">\n",
              "      <th></th>\n",
              "      <th>PassengerId</th>\n",
              "      <th>Survived</th>\n",
              "      <th>Pclass</th>\n",
              "      <th>Name</th>\n",
              "      <th>Sex</th>\n",
              "      <th>Age</th>\n",
              "      <th>SibSp</th>\n",
              "      <th>Parch</th>\n",
              "      <th>Ticket</th>\n",
              "      <th>Fare</th>\n",
              "      <th>Cabin</th>\n",
              "      <th>Embarked</th>\n",
              "    </tr>\n",
              "  </thead>\n",
              "  <tbody>\n",
              "    <tr>\n",
              "      <th>0</th>\n",
              "      <td>1</td>\n",
              "      <td>0</td>\n",
              "      <td>3</td>\n",
              "      <td>Braund, Mr. Owen Harris</td>\n",
              "      <td>male</td>\n",
              "      <td>22.0000</td>\n",
              "      <td>1</td>\n",
              "      <td>0</td>\n",
              "      <td>A/5 21171</td>\n",
              "      <td>7.2500</td>\n",
              "      <td>NaN</td>\n",
              "      <td>S</td>\n",
              "    </tr>\n",
              "    <tr>\n",
              "      <th>1</th>\n",
              "      <td>2</td>\n",
              "      <td>1</td>\n",
              "      <td>1</td>\n",
              "      <td>Cumings, Mrs. John Bradley (Florence Briggs Th...</td>\n",
              "      <td>female</td>\n",
              "      <td>38.0000</td>\n",
              "      <td>1</td>\n",
              "      <td>0</td>\n",
              "      <td>PC 17599</td>\n",
              "      <td>71.2833</td>\n",
              "      <td>C85</td>\n",
              "      <td>C</td>\n",
              "    </tr>\n",
              "    <tr>\n",
              "      <th>2</th>\n",
              "      <td>3</td>\n",
              "      <td>1</td>\n",
              "      <td>3</td>\n",
              "      <td>Heikkinen, Miss. Laina</td>\n",
              "      <td>female</td>\n",
              "      <td>26.0000</td>\n",
              "      <td>0</td>\n",
              "      <td>0</td>\n",
              "      <td>STON/O2. 3101282</td>\n",
              "      <td>7.9250</td>\n",
              "      <td>NaN</td>\n",
              "      <td>S</td>\n",
              "    </tr>\n",
              "    <tr>\n",
              "      <th>3</th>\n",
              "      <td>4</td>\n",
              "      <td>1</td>\n",
              "      <td>1</td>\n",
              "      <td>Futrelle, Mrs. Jacques Heath (Lily May Peel)</td>\n",
              "      <td>female</td>\n",
              "      <td>35.0000</td>\n",
              "      <td>1</td>\n",
              "      <td>0</td>\n",
              "      <td>113803</td>\n",
              "      <td>53.1000</td>\n",
              "      <td>C123</td>\n",
              "      <td>S</td>\n",
              "    </tr>\n",
              "    <tr>\n",
              "      <th>4</th>\n",
              "      <td>5</td>\n",
              "      <td>0</td>\n",
              "      <td>3</td>\n",
              "      <td>Allen, Mr. William Henry</td>\n",
              "      <td>male</td>\n",
              "      <td>35.0000</td>\n",
              "      <td>0</td>\n",
              "      <td>0</td>\n",
              "      <td>373450</td>\n",
              "      <td>8.0500</td>\n",
              "      <td>NaN</td>\n",
              "      <td>S</td>\n",
              "    </tr>\n",
              "    <tr>\n",
              "      <th>...</th>\n",
              "      <td>...</td>\n",
              "      <td>...</td>\n",
              "      <td>...</td>\n",
              "      <td>...</td>\n",
              "      <td>...</td>\n",
              "      <td>...</td>\n",
              "      <td>...</td>\n",
              "      <td>...</td>\n",
              "      <td>...</td>\n",
              "      <td>...</td>\n",
              "      <td>...</td>\n",
              "      <td>...</td>\n",
              "    </tr>\n",
              "    <tr>\n",
              "      <th>886</th>\n",
              "      <td>887</td>\n",
              "      <td>0</td>\n",
              "      <td>2</td>\n",
              "      <td>Montvila, Rev. Juozas</td>\n",
              "      <td>male</td>\n",
              "      <td>27.0000</td>\n",
              "      <td>0</td>\n",
              "      <td>0</td>\n",
              "      <td>211536</td>\n",
              "      <td>13.0000</td>\n",
              "      <td>NaN</td>\n",
              "      <td>S</td>\n",
              "    </tr>\n",
              "    <tr>\n",
              "      <th>887</th>\n",
              "      <td>888</td>\n",
              "      <td>1</td>\n",
              "      <td>1</td>\n",
              "      <td>Graham, Miss. Margaret Edith</td>\n",
              "      <td>female</td>\n",
              "      <td>19.0000</td>\n",
              "      <td>0</td>\n",
              "      <td>0</td>\n",
              "      <td>112053</td>\n",
              "      <td>30.0000</td>\n",
              "      <td>B42</td>\n",
              "      <td>S</td>\n",
              "    </tr>\n",
              "    <tr>\n",
              "      <th>888</th>\n",
              "      <td>889</td>\n",
              "      <td>0</td>\n",
              "      <td>3</td>\n",
              "      <td>Johnston, Miss. Catherine Helen \"Carrie\"</td>\n",
              "      <td>female</td>\n",
              "      <td>NaN</td>\n",
              "      <td>1</td>\n",
              "      <td>2</td>\n",
              "      <td>W./C. 6607</td>\n",
              "      <td>23.4500</td>\n",
              "      <td>NaN</td>\n",
              "      <td>S</td>\n",
              "    </tr>\n",
              "    <tr>\n",
              "      <th>889</th>\n",
              "      <td>890</td>\n",
              "      <td>1</td>\n",
              "      <td>1</td>\n",
              "      <td>Behr, Mr. Karl Howell</td>\n",
              "      <td>male</td>\n",
              "      <td>26.0000</td>\n",
              "      <td>0</td>\n",
              "      <td>0</td>\n",
              "      <td>111369</td>\n",
              "      <td>30.0000</td>\n",
              "      <td>C148</td>\n",
              "      <td>C</td>\n",
              "    </tr>\n",
              "    <tr>\n",
              "      <th>890</th>\n",
              "      <td>891</td>\n",
              "      <td>0</td>\n",
              "      <td>3</td>\n",
              "      <td>Dooley, Mr. Patrick</td>\n",
              "      <td>male</td>\n",
              "      <td>32.0000</td>\n",
              "      <td>0</td>\n",
              "      <td>0</td>\n",
              "      <td>370376</td>\n",
              "      <td>7.7500</td>\n",
              "      <td>NaN</td>\n",
              "      <td>Q</td>\n",
              "    </tr>\n",
              "  </tbody>\n",
              "</table>\n",
              "<p>891 rows × 12 columns</p>\n",
              "</div>\n",
              "      <button class=\"colab-df-convert\" onclick=\"convertToInteractive('df-ec812312-7828-482f-b04a-d55087659619')\"\n",
              "              title=\"Convert this dataframe to an interactive table.\"\n",
              "              style=\"display:none;\">\n",
              "        \n",
              "  <svg xmlns=\"http://www.w3.org/2000/svg\" height=\"24px\"viewBox=\"0 0 24 24\"\n",
              "       width=\"24px\">\n",
              "    <path d=\"M0 0h24v24H0V0z\" fill=\"none\"/>\n",
              "    <path d=\"M18.56 5.44l.94 2.06.94-2.06 2.06-.94-2.06-.94-.94-2.06-.94 2.06-2.06.94zm-11 1L8.5 8.5l.94-2.06 2.06-.94-2.06-.94L8.5 2.5l-.94 2.06-2.06.94zm10 10l.94 2.06.94-2.06 2.06-.94-2.06-.94-.94-2.06-.94 2.06-2.06.94z\"/><path d=\"M17.41 7.96l-1.37-1.37c-.4-.4-.92-.59-1.43-.59-.52 0-1.04.2-1.43.59L10.3 9.45l-7.72 7.72c-.78.78-.78 2.05 0 2.83L4 21.41c.39.39.9.59 1.41.59.51 0 1.02-.2 1.41-.59l7.78-7.78 2.81-2.81c.8-.78.8-2.07 0-2.86zM5.41 20L4 18.59l7.72-7.72 1.47 1.35L5.41 20z\"/>\n",
              "  </svg>\n",
              "      </button>\n",
              "      \n",
              "  <style>\n",
              "    .colab-df-container {\n",
              "      display:flex;\n",
              "      flex-wrap:wrap;\n",
              "      gap: 12px;\n",
              "    }\n",
              "\n",
              "    .colab-df-convert {\n",
              "      background-color: #E8F0FE;\n",
              "      border: none;\n",
              "      border-radius: 50%;\n",
              "      cursor: pointer;\n",
              "      display: none;\n",
              "      fill: #1967D2;\n",
              "      height: 32px;\n",
              "      padding: 0 0 0 0;\n",
              "      width: 32px;\n",
              "    }\n",
              "\n",
              "    .colab-df-convert:hover {\n",
              "      background-color: #E2EBFA;\n",
              "      box-shadow: 0px 1px 2px rgba(60, 64, 67, 0.3), 0px 1px 3px 1px rgba(60, 64, 67, 0.15);\n",
              "      fill: #174EA6;\n",
              "    }\n",
              "\n",
              "    [theme=dark] .colab-df-convert {\n",
              "      background-color: #3B4455;\n",
              "      fill: #D2E3FC;\n",
              "    }\n",
              "\n",
              "    [theme=dark] .colab-df-convert:hover {\n",
              "      background-color: #434B5C;\n",
              "      box-shadow: 0px 1px 3px 1px rgba(0, 0, 0, 0.15);\n",
              "      filter: drop-shadow(0px 1px 2px rgba(0, 0, 0, 0.3));\n",
              "      fill: #FFFFFF;\n",
              "    }\n",
              "  </style>\n",
              "\n",
              "      <script>\n",
              "        const buttonEl =\n",
              "          document.querySelector('#df-ec812312-7828-482f-b04a-d55087659619 button.colab-df-convert');\n",
              "        buttonEl.style.display =\n",
              "          google.colab.kernel.accessAllowed ? 'block' : 'none';\n",
              "\n",
              "        async function convertToInteractive(key) {\n",
              "          const element = document.querySelector('#df-ec812312-7828-482f-b04a-d55087659619');\n",
              "          const dataTable =\n",
              "            await google.colab.kernel.invokeFunction('convertToInteractive',\n",
              "                                                     [key], {});\n",
              "          if (!dataTable) return;\n",
              "\n",
              "          const docLinkHtml = 'Like what you see? Visit the ' +\n",
              "            '<a target=\"_blank\" href=https://colab.research.google.com/notebooks/data_table.ipynb>data table notebook</a>'\n",
              "            + ' to learn more about interactive tables.';\n",
              "          element.innerHTML = '';\n",
              "          dataTable['output_type'] = 'display_data';\n",
              "          await google.colab.output.renderOutput(dataTable, element);\n",
              "          const docLink = document.createElement('div');\n",
              "          docLink.innerHTML = docLinkHtml;\n",
              "          element.appendChild(docLink);\n",
              "        }\n",
              "      </script>\n",
              "    </div>\n",
              "  </div>\n",
              "  "
            ],
            "text/plain": [
              "     PassengerId  Survived  Pclass  \\\n",
              "0              1         0       3   \n",
              "1              2         1       1   \n",
              "2              3         1       3   \n",
              "3              4         1       1   \n",
              "4              5         0       3   \n",
              "..           ...       ...     ...   \n",
              "886          887         0       2   \n",
              "887          888         1       1   \n",
              "888          889         0       3   \n",
              "889          890         1       1   \n",
              "890          891         0       3   \n",
              "\n",
              "                                                  Name     Sex     Age  SibSp  \\\n",
              "0                              Braund, Mr. Owen Harris    male 22.0000      1   \n",
              "1    Cumings, Mrs. John Bradley (Florence Briggs Th...  female 38.0000      1   \n",
              "2                               Heikkinen, Miss. Laina  female 26.0000      0   \n",
              "3         Futrelle, Mrs. Jacques Heath (Lily May Peel)  female 35.0000      1   \n",
              "4                             Allen, Mr. William Henry    male 35.0000      0   \n",
              "..                                                 ...     ...     ...    ...   \n",
              "886                              Montvila, Rev. Juozas    male 27.0000      0   \n",
              "887                       Graham, Miss. Margaret Edith  female 19.0000      0   \n",
              "888           Johnston, Miss. Catherine Helen \"Carrie\"  female     NaN      1   \n",
              "889                              Behr, Mr. Karl Howell    male 26.0000      0   \n",
              "890                                Dooley, Mr. Patrick    male 32.0000      0   \n",
              "\n",
              "     Parch            Ticket    Fare Cabin Embarked  \n",
              "0        0         A/5 21171  7.2500   NaN        S  \n",
              "1        0          PC 17599 71.2833   C85        C  \n",
              "2        0  STON/O2. 3101282  7.9250   NaN        S  \n",
              "3        0            113803 53.1000  C123        S  \n",
              "4        0            373450  8.0500   NaN        S  \n",
              "..     ...               ...     ...   ...      ...  \n",
              "886      0            211536 13.0000   NaN        S  \n",
              "887      0            112053 30.0000   B42        S  \n",
              "888      2        W./C. 6607 23.4500   NaN        S  \n",
              "889      0            111369 30.0000  C148        C  \n",
              "890      0            370376  7.7500   NaN        Q  \n",
              "\n",
              "[891 rows x 12 columns]"
            ]
          },
          "execution_count": 175,
          "metadata": {},
          "output_type": "execute_result"
        }
      ],
      "source": [
        "url = 'https://raw.githubusercontent.com/dev-EthanJ/bigdata_16th/main/data/titanic_train.csv'\n",
        "df_train = pd.read_csv(url)\n",
        "\n",
        "df_train"
      ]
    },
    {
      "cell_type": "code",
      "execution_count": null,
      "metadata": {
        "colab": {
          "base_uri": "https://localhost:8080/"
        },
        "id": "a_FY85WPbubM",
        "outputId": "74b21690-9200-41e2-8723-8083e8f66356"
      },
      "outputs": [
        {
          "name": "stdout",
          "output_type": "stream",
          "text": [
            "<class 'pandas.core.frame.DataFrame'>\n",
            "RangeIndex: 891 entries, 0 to 890\n",
            "Data columns (total 12 columns):\n",
            " #   Column       Non-Null Count  Dtype  \n",
            "---  ------       --------------  -----  \n",
            " 0   PassengerId  891 non-null    int64  \n",
            " 1   Survived     891 non-null    int64  \n",
            " 2   Pclass       891 non-null    int64  \n",
            " 3   Name         891 non-null    object \n",
            " 4   Sex          891 non-null    object \n",
            " 5   Age          714 non-null    float64\n",
            " 6   SibSp        891 non-null    int64  \n",
            " 7   Parch        891 non-null    int64  \n",
            " 8   Ticket       891 non-null    object \n",
            " 9   Fare         891 non-null    float64\n",
            " 10  Cabin        204 non-null    object \n",
            " 11  Embarked     889 non-null    object \n",
            "dtypes: float64(2), int64(5), object(5)\n",
            "memory usage: 83.7+ KB\n"
          ]
        }
      ],
      "source": [
        "df_train.info()"
      ]
    },
    {
      "cell_type": "markdown",
      "metadata": {
        "id": "pUsVl04GiXh3"
      },
      "source": [
        "### 2. Data pre-processing"
      ]
    },
    {
      "cell_type": "code",
      "execution_count": null,
      "metadata": {
        "colab": {
          "base_uri": "https://localhost:8080/"
        },
        "id": "W7kqHOOYdrhY",
        "outputId": "32b771c8-1e02-4840-c1b1-39dd4a961a55"
      },
      "outputs": [
        {
          "data": {
            "text/plain": [
              "array([nan, 'C85', 'C123', 'E46', 'G6', 'C103', 'D56', 'A6',\n",
              "       'C23 C25 C27', 'B78', 'D33', 'B30', 'C52', 'B28', 'C83', 'F33',\n",
              "       'F G73', 'E31', 'A5', 'D10 D12', 'D26', 'C110', 'B58 B60', 'E101',\n",
              "       'F E69', 'D47', 'B86', 'F2', 'C2', 'E33', 'B19', 'A7', 'C49', 'F4',\n",
              "       'A32', 'B4', 'B80', 'A31', 'D36', 'D15', 'C93', 'C78', 'D35',\n",
              "       'C87', 'B77', 'E67', 'B94', 'C125', 'C99', 'C118', 'D7', 'A19',\n",
              "       'B49', 'D', 'C22 C26', 'C106', 'C65', 'E36', 'C54',\n",
              "       'B57 B59 B63 B66', 'C7', 'E34', 'C32', 'B18', 'C124', 'C91', 'E40',\n",
              "       'T', 'C128', 'D37', 'B35', 'E50', 'C82', 'B96 B98', 'E10', 'E44',\n",
              "       'A34', 'C104', 'C111', 'C92', 'E38', 'D21', 'E12', 'E63', 'A14',\n",
              "       'B37', 'C30', 'D20', 'B79', 'E25', 'D46', 'B73', 'C95', 'B38',\n",
              "       'B39', 'B22', 'C86', 'C70', 'A16', 'C101', 'C68', 'A10', 'E68',\n",
              "       'B41', 'A20', 'D19', 'D50', 'D9', 'A23', 'B50', 'A26', 'D48',\n",
              "       'E58', 'C126', 'B71', 'B51 B53 B55', 'D49', 'B5', 'B20', 'F G63',\n",
              "       'C62 C64', 'E24', 'C90', 'C45', 'E8', 'B101', 'D45', 'C46', 'D30',\n",
              "       'E121', 'D11', 'E77', 'F38', 'B3', 'D6', 'B82 B84', 'D17', 'A36',\n",
              "       'B102', 'B69', 'E49', 'C47', 'D28', 'E17', 'A24', 'C50', 'B42',\n",
              "       'C148'], dtype=object)"
            ]
          },
          "execution_count": 177,
          "metadata": {},
          "output_type": "execute_result"
        }
      ],
      "source": [
        "df_train.Cabin.unique()"
      ]
    },
    {
      "cell_type": "code",
      "execution_count": null,
      "metadata": {
        "id": "vD6lCGetb76x"
      },
      "outputs": [],
      "source": [
        "# 너무 다양한 Data columns 'Cabin' drop\n",
        "df_train = df_train.drop(['Cabin'], axis=1)"
      ]
    },
    {
      "cell_type": "code",
      "execution_count": null,
      "metadata": {
        "colab": {
          "base_uri": "https://localhost:8080/"
        },
        "id": "qiU4my6Wcb8Z",
        "outputId": "85c40761-6be3-480a-b1ff-4a512f5a70fc"
      },
      "outputs": [
        {
          "data": {
            "text/plain": [
              "S    644\n",
              "C    168\n",
              "Q     77\n",
              "Name: Embarked, dtype: int64"
            ]
          },
          "execution_count": 179,
          "metadata": {},
          "output_type": "execute_result"
        }
      ],
      "source": [
        "# 'Embarked' 빈도 확인\n",
        "df_train.Embarked.value_counts()"
      ]
    },
    {
      "cell_type": "code",
      "execution_count": null,
      "metadata": {
        "colab": {
          "base_uri": "https://localhost:8080/"
        },
        "id": "QY0_C8XHco6h",
        "outputId": "e9585edf-fbf2-41c4-8441-3181710fffa1"
      },
      "outputs": [
        {
          "data": {
            "text/plain": [
              "array(['S', 'C', 'Q', nan], dtype=object)"
            ]
          },
          "execution_count": 180,
          "metadata": {},
          "output_type": "execute_result"
        }
      ],
      "source": [
        "df_train.Embarked.unique()"
      ]
    },
    {
      "cell_type": "code",
      "execution_count": null,
      "metadata": {
        "id": "rUm3GeUqcpjb"
      },
      "outputs": [],
      "source": [
        "# 가장 많은 S로 fillna\n",
        "df_train.Embarked.fillna('S', inplace=True)"
      ]
    },
    {
      "cell_type": "code",
      "execution_count": null,
      "metadata": {
        "colab": {
          "base_uri": "https://localhost:8080/"
        },
        "id": "PJD9RO2Jd3TA",
        "outputId": "f53092f5-c4ee-4bac-98ba-4377a1149558"
      },
      "outputs": [
        {
          "data": {
            "text/plain": [
              "681"
            ]
          },
          "execution_count": 182,
          "metadata": {},
          "output_type": "execute_result"
        }
      ],
      "source": [
        "df_train['Ticket'].nunique()"
      ]
    },
    {
      "cell_type": "code",
      "execution_count": null,
      "metadata": {
        "id": "1WPW1__Ccwcq"
      },
      "outputs": [],
      "source": [
        "# 'Ticket'도 무의미함 > drop\n",
        "df_train.drop(columns=['Ticket'], inplace=True)"
      ]
    },
    {
      "cell_type": "code",
      "execution_count": null,
      "metadata": {
        "colab": {
          "base_uri": "https://localhost:8080/"
        },
        "id": "UinMQoDhdEHN",
        "outputId": "b2611ca9-fa0c-41a1-cc7b-d8caafdd1429"
      },
      "outputs": [
        {
          "data": {
            "text/plain": [
              "Mr          517\n",
              "Miss        182\n",
              "Mrs         125\n",
              "Master       40\n",
              "Dr            7\n",
              "Rev           6\n",
              "Mlle          2\n",
              "Major         2\n",
              "Col           2\n",
              "Countess      1\n",
              "Capt          1\n",
              "Ms            1\n",
              "Sir           1\n",
              "Lady          1\n",
              "Mme           1\n",
              "Don           1\n",
              "Jonkheer      1\n",
              "Name: Title, dtype: int64"
            ]
          },
          "execution_count": 184,
          "metadata": {},
          "output_type": "execute_result"
        }
      ],
      "source": [
        "# 정규 표현식을 통해 조건에 맞는 str을 추출\n",
        "df_train['Title'] = df_train.Name.str.extract('([A-Za-z]+)\\.')\n",
        "\n",
        "df_train.Title.value_counts()"
      ]
    },
    {
      "cell_type": "code",
      "execution_count": null,
      "metadata": {
        "colab": {
          "base_uri": "https://localhost:8080/"
        },
        "id": "PAg_MVERdh-M",
        "outputId": "1d3f043b-0e9a-4bc8-a6df-f47876651f15"
      },
      "outputs": [
        {
          "data": {
            "text/plain": [
              "['Don',\n",
              " 'Rev',\n",
              " 'Dr',\n",
              " 'Mme',\n",
              " 'Ms',\n",
              " 'Major',\n",
              " 'Lady',\n",
              " 'Sir',\n",
              " 'Mlle',\n",
              " 'Col',\n",
              " 'Capt',\n",
              " 'Countess',\n",
              " 'Jonkheer']"
            ]
          },
          "execution_count": 185,
          "metadata": {},
          "output_type": "execute_result"
        }
      ],
      "source": [
        "title_unique = df_train.Title.unique()\n",
        "\n",
        "# 10개보다 적은 'Title' column의 item을 rarelist에 추가\n",
        "rarelist = []\n",
        "for t in title_unique:\n",
        "    if list(df_train.Title).count(t) < 10:\n",
        "        rarelist.append(t)\n",
        "\n",
        "rarelist"
      ]
    },
    {
      "cell_type": "code",
      "execution_count": null,
      "metadata": {
        "colab": {
          "base_uri": "https://localhost:8080/"
        },
        "id": "B9OU1BBge_-0",
        "outputId": "4951b9e2-0845-4ae3-9fa0-294ab5c90ecc"
      },
      "outputs": [
        {
          "data": {
            "text/plain": [
              "Mr        517\n",
              "Miss      182\n",
              "Mrs       125\n",
              "Master     40\n",
              "Rare       27\n",
              "Name: Title, dtype: int64"
            ]
          },
          "execution_count": 186,
          "metadata": {},
          "output_type": "execute_result"
        }
      ],
      "source": [
        "# rarelist에 해당하는 'Title' item을 'Rare'로 변경\n",
        "df_train.Title = df_train.Title.replace(rarelist, 'Rare')\n",
        "\n",
        "# 'Title'의 'Rare' item이 27개 > 무시 할 만한 개수\n",
        "df_train.Title.value_counts()"
      ]
    },
    {
      "cell_type": "code",
      "execution_count": null,
      "metadata": {
        "colab": {
          "base_uri": "https://localhost:8080/"
        },
        "id": "_qLGDlPPfFX-",
        "outputId": "bf1b9561-02ff-4201-d3d4-676c42eb15ca"
      },
      "outputs": [
        {
          "data": {
            "text/plain": [
              "Title\n",
              "Master    4.5742\n",
              "Miss     21.7740\n",
              "Mr       32.3681\n",
              "Mrs      35.8981\n",
              "Rare     42.3846\n",
              "Name: Age, dtype: float64"
            ]
          },
          "execution_count": 187,
          "metadata": {},
          "output_type": "execute_result"
        }
      ],
      "source": [
        "# 각 'Title'별 'Age'의 평균\n",
        "title_age_mean = df_train.groupby('Title')['Age'].mean()\n",
        "\n",
        "title_age_mean"
      ]
    },
    {
      "cell_type": "code",
      "execution_count": null,
      "metadata": {
        "id": "BoA_tgiHfV2C"
      },
      "outputs": [],
      "source": [
        "# 'Age'의 결측치를 'Title'별 'Age'의 평균값으로 채움\n",
        "# Title.unique list의 item t > isnull()=True 이면 title_age_mean[t]:'Title'별 'Age'의 평균으로 채운다\n",
        "for t in df_train.Title.unique():\n",
        "    df_train.loc[(df_train.Age.isnull()) & (df_train.Title == t), 'Age'] = title_age_mean[t]"
      ]
    },
    {
      "cell_type": "code",
      "execution_count": null,
      "metadata": {
        "colab": {
          "base_uri": "https://localhost:8080/"
        },
        "id": "7mLYgU98fmCo",
        "outputId": "3be0ecc3-af67-4735-e1f6-97644bf51ceb"
      },
      "outputs": [
        {
          "name": "stdout",
          "output_type": "stream",
          "text": [
            "<class 'pandas.core.frame.DataFrame'>\n",
            "RangeIndex: 891 entries, 0 to 890\n",
            "Data columns (total 11 columns):\n",
            " #   Column       Non-Null Count  Dtype  \n",
            "---  ------       --------------  -----  \n",
            " 0   PassengerId  891 non-null    int64  \n",
            " 1   Survived     891 non-null    int64  \n",
            " 2   Pclass       891 non-null    int64  \n",
            " 3   Name         891 non-null    object \n",
            " 4   Sex          891 non-null    object \n",
            " 5   Age          891 non-null    float64\n",
            " 6   SibSp        891 non-null    int64  \n",
            " 7   Parch        891 non-null    int64  \n",
            " 8   Fare         891 non-null    float64\n",
            " 9   Embarked     891 non-null    object \n",
            " 10  Title        891 non-null    object \n",
            "dtypes: float64(2), int64(5), object(4)\n",
            "memory usage: 76.7+ KB\n"
          ]
        }
      ],
      "source": [
        "df_train.info()"
      ]
    },
    {
      "cell_type": "code",
      "execution_count": null,
      "metadata": {
        "colab": {
          "base_uri": "https://localhost:8080/"
        },
        "id": "TbMIyCnpfn3m",
        "outputId": "d64f2b57-7cd3-4618-f79f-6e7559559fc4"
      },
      "outputs": [
        {
          "name": "stdout",
          "output_type": "stream",
          "text": [
            "PassengerId 891 int64\n",
            "Survived 2 int64\n",
            "Pclass 3 int64\n",
            "Name 891 object\n",
            "Sex 2 object\n",
            "Age 93 float64\n",
            "SibSp 7 int64\n",
            "Parch 7 int64\n",
            "Fare 248 float64\n",
            "Embarked 3 object\n",
            "Title 5 object\n"
          ]
        }
      ],
      "source": [
        "for col_name in df_train.columns:\n",
        "  print(col_name, df_train[col_name].nunique(), df_train[col_name].dtype)"
      ]
    },
    {
      "cell_type": "code",
      "execution_count": null,
      "metadata": {
        "colab": {
          "base_uri": "https://localhost:8080/"
        },
        "id": "ZcI0lNw5gegv",
        "outputId": "6c474780-73e9-4ff0-c0b5-3e317657f914"
      },
      "outputs": [
        {
          "data": {
            "text/plain": [
              "0        1\n",
              "1        2\n",
              "2        3\n",
              "3        4\n",
              "4        5\n",
              "      ... \n",
              "886    887\n",
              "887    888\n",
              "888    889\n",
              "889    890\n",
              "890    891\n",
              "Name: PassengerId, Length: 891, dtype: int64"
            ]
          },
          "execution_count": 191,
          "metadata": {},
          "output_type": "execute_result"
        }
      ],
      "source": [
        "df_train.PassengerId"
      ]
    },
    {
      "cell_type": "code",
      "execution_count": null,
      "metadata": {
        "id": "h9hKRdZChyO1"
      },
      "outputs": [],
      "source": [
        "# 'Name' column drop\n",
        "df_train = df_train.drop('Name', axis=1)"
      ]
    },
    {
      "cell_type": "code",
      "execution_count": null,
      "metadata": {
        "colab": {
          "base_uri": "https://localhost:8080/"
        },
        "id": "dDGvEBTOh7Vr",
        "outputId": "7e9d6de3-fd39-4b44-fb3a-a00164f9dc5a"
      },
      "outputs": [
        {
          "name": "stdout",
          "output_type": "stream",
          "text": [
            "<class 'pandas.core.frame.DataFrame'>\n",
            "RangeIndex: 891 entries, 0 to 890\n",
            "Data columns (total 10 columns):\n",
            " #   Column       Non-Null Count  Dtype  \n",
            "---  ------       --------------  -----  \n",
            " 0   PassengerId  891 non-null    int64  \n",
            " 1   Survived     891 non-null    int64  \n",
            " 2   Pclass       891 non-null    int64  \n",
            " 3   Sex          891 non-null    object \n",
            " 4   Age          891 non-null    float64\n",
            " 5   SibSp        891 non-null    int64  \n",
            " 6   Parch        891 non-null    int64  \n",
            " 7   Fare         891 non-null    float64\n",
            " 8   Embarked     891 non-null    object \n",
            " 9   Title        891 non-null    object \n",
            "dtypes: float64(2), int64(5), object(3)\n",
            "memory usage: 69.7+ KB\n"
          ]
        }
      ],
      "source": [
        "df_train.info()"
      ]
    },
    {
      "cell_type": "code",
      "execution_count": null,
      "metadata": {
        "colab": {
          "base_uri": "https://localhost:8080/",
          "height": 424
        },
        "id": "SnwTvIUAiGbB",
        "outputId": "02ee59e7-9386-429c-9199-5894f452e7e8"
      },
      "outputs": [
        {
          "data": {
            "text/html": [
              "\n",
              "  <div id=\"df-07fb23a5-7dc6-40f0-a72c-2696dd141057\">\n",
              "    <div class=\"colab-df-container\">\n",
              "      <div>\n",
              "<style scoped>\n",
              "    .dataframe tbody tr th:only-of-type {\n",
              "        vertical-align: middle;\n",
              "    }\n",
              "\n",
              "    .dataframe tbody tr th {\n",
              "        vertical-align: top;\n",
              "    }\n",
              "\n",
              "    .dataframe thead th {\n",
              "        text-align: right;\n",
              "    }\n",
              "</style>\n",
              "<table border=\"1\" class=\"dataframe\">\n",
              "  <thead>\n",
              "    <tr style=\"text-align: right;\">\n",
              "      <th></th>\n",
              "      <th>PassengerId</th>\n",
              "      <th>Survived</th>\n",
              "      <th>Pclass</th>\n",
              "      <th>Sex</th>\n",
              "      <th>Age</th>\n",
              "      <th>SibSp</th>\n",
              "      <th>Parch</th>\n",
              "      <th>Fare</th>\n",
              "      <th>Embarked</th>\n",
              "      <th>Title</th>\n",
              "    </tr>\n",
              "  </thead>\n",
              "  <tbody>\n",
              "    <tr>\n",
              "      <th>0</th>\n",
              "      <td>1</td>\n",
              "      <td>0</td>\n",
              "      <td>3</td>\n",
              "      <td>male</td>\n",
              "      <td>22.0000</td>\n",
              "      <td>1</td>\n",
              "      <td>0</td>\n",
              "      <td>7.2500</td>\n",
              "      <td>S</td>\n",
              "      <td>Mr</td>\n",
              "    </tr>\n",
              "    <tr>\n",
              "      <th>1</th>\n",
              "      <td>2</td>\n",
              "      <td>1</td>\n",
              "      <td>1</td>\n",
              "      <td>female</td>\n",
              "      <td>38.0000</td>\n",
              "      <td>1</td>\n",
              "      <td>0</td>\n",
              "      <td>71.2833</td>\n",
              "      <td>C</td>\n",
              "      <td>Mrs</td>\n",
              "    </tr>\n",
              "    <tr>\n",
              "      <th>2</th>\n",
              "      <td>3</td>\n",
              "      <td>1</td>\n",
              "      <td>3</td>\n",
              "      <td>female</td>\n",
              "      <td>26.0000</td>\n",
              "      <td>0</td>\n",
              "      <td>0</td>\n",
              "      <td>7.9250</td>\n",
              "      <td>S</td>\n",
              "      <td>Miss</td>\n",
              "    </tr>\n",
              "    <tr>\n",
              "      <th>3</th>\n",
              "      <td>4</td>\n",
              "      <td>1</td>\n",
              "      <td>1</td>\n",
              "      <td>female</td>\n",
              "      <td>35.0000</td>\n",
              "      <td>1</td>\n",
              "      <td>0</td>\n",
              "      <td>53.1000</td>\n",
              "      <td>S</td>\n",
              "      <td>Mrs</td>\n",
              "    </tr>\n",
              "    <tr>\n",
              "      <th>4</th>\n",
              "      <td>5</td>\n",
              "      <td>0</td>\n",
              "      <td>3</td>\n",
              "      <td>male</td>\n",
              "      <td>35.0000</td>\n",
              "      <td>0</td>\n",
              "      <td>0</td>\n",
              "      <td>8.0500</td>\n",
              "      <td>S</td>\n",
              "      <td>Mr</td>\n",
              "    </tr>\n",
              "    <tr>\n",
              "      <th>...</th>\n",
              "      <td>...</td>\n",
              "      <td>...</td>\n",
              "      <td>...</td>\n",
              "      <td>...</td>\n",
              "      <td>...</td>\n",
              "      <td>...</td>\n",
              "      <td>...</td>\n",
              "      <td>...</td>\n",
              "      <td>...</td>\n",
              "      <td>...</td>\n",
              "    </tr>\n",
              "    <tr>\n",
              "      <th>886</th>\n",
              "      <td>887</td>\n",
              "      <td>0</td>\n",
              "      <td>2</td>\n",
              "      <td>male</td>\n",
              "      <td>27.0000</td>\n",
              "      <td>0</td>\n",
              "      <td>0</td>\n",
              "      <td>13.0000</td>\n",
              "      <td>S</td>\n",
              "      <td>Rare</td>\n",
              "    </tr>\n",
              "    <tr>\n",
              "      <th>887</th>\n",
              "      <td>888</td>\n",
              "      <td>1</td>\n",
              "      <td>1</td>\n",
              "      <td>female</td>\n",
              "      <td>19.0000</td>\n",
              "      <td>0</td>\n",
              "      <td>0</td>\n",
              "      <td>30.0000</td>\n",
              "      <td>S</td>\n",
              "      <td>Miss</td>\n",
              "    </tr>\n",
              "    <tr>\n",
              "      <th>888</th>\n",
              "      <td>889</td>\n",
              "      <td>0</td>\n",
              "      <td>3</td>\n",
              "      <td>female</td>\n",
              "      <td>21.7740</td>\n",
              "      <td>1</td>\n",
              "      <td>2</td>\n",
              "      <td>23.4500</td>\n",
              "      <td>S</td>\n",
              "      <td>Miss</td>\n",
              "    </tr>\n",
              "    <tr>\n",
              "      <th>889</th>\n",
              "      <td>890</td>\n",
              "      <td>1</td>\n",
              "      <td>1</td>\n",
              "      <td>male</td>\n",
              "      <td>26.0000</td>\n",
              "      <td>0</td>\n",
              "      <td>0</td>\n",
              "      <td>30.0000</td>\n",
              "      <td>C</td>\n",
              "      <td>Mr</td>\n",
              "    </tr>\n",
              "    <tr>\n",
              "      <th>890</th>\n",
              "      <td>891</td>\n",
              "      <td>0</td>\n",
              "      <td>3</td>\n",
              "      <td>male</td>\n",
              "      <td>32.0000</td>\n",
              "      <td>0</td>\n",
              "      <td>0</td>\n",
              "      <td>7.7500</td>\n",
              "      <td>Q</td>\n",
              "      <td>Mr</td>\n",
              "    </tr>\n",
              "  </tbody>\n",
              "</table>\n",
              "<p>891 rows × 10 columns</p>\n",
              "</div>\n",
              "      <button class=\"colab-df-convert\" onclick=\"convertToInteractive('df-07fb23a5-7dc6-40f0-a72c-2696dd141057')\"\n",
              "              title=\"Convert this dataframe to an interactive table.\"\n",
              "              style=\"display:none;\">\n",
              "        \n",
              "  <svg xmlns=\"http://www.w3.org/2000/svg\" height=\"24px\"viewBox=\"0 0 24 24\"\n",
              "       width=\"24px\">\n",
              "    <path d=\"M0 0h24v24H0V0z\" fill=\"none\"/>\n",
              "    <path d=\"M18.56 5.44l.94 2.06.94-2.06 2.06-.94-2.06-.94-.94-2.06-.94 2.06-2.06.94zm-11 1L8.5 8.5l.94-2.06 2.06-.94-2.06-.94L8.5 2.5l-.94 2.06-2.06.94zm10 10l.94 2.06.94-2.06 2.06-.94-2.06-.94-.94-2.06-.94 2.06-2.06.94z\"/><path d=\"M17.41 7.96l-1.37-1.37c-.4-.4-.92-.59-1.43-.59-.52 0-1.04.2-1.43.59L10.3 9.45l-7.72 7.72c-.78.78-.78 2.05 0 2.83L4 21.41c.39.39.9.59 1.41.59.51 0 1.02-.2 1.41-.59l7.78-7.78 2.81-2.81c.8-.78.8-2.07 0-2.86zM5.41 20L4 18.59l7.72-7.72 1.47 1.35L5.41 20z\"/>\n",
              "  </svg>\n",
              "      </button>\n",
              "      \n",
              "  <style>\n",
              "    .colab-df-container {\n",
              "      display:flex;\n",
              "      flex-wrap:wrap;\n",
              "      gap: 12px;\n",
              "    }\n",
              "\n",
              "    .colab-df-convert {\n",
              "      background-color: #E8F0FE;\n",
              "      border: none;\n",
              "      border-radius: 50%;\n",
              "      cursor: pointer;\n",
              "      display: none;\n",
              "      fill: #1967D2;\n",
              "      height: 32px;\n",
              "      padding: 0 0 0 0;\n",
              "      width: 32px;\n",
              "    }\n",
              "\n",
              "    .colab-df-convert:hover {\n",
              "      background-color: #E2EBFA;\n",
              "      box-shadow: 0px 1px 2px rgba(60, 64, 67, 0.3), 0px 1px 3px 1px rgba(60, 64, 67, 0.15);\n",
              "      fill: #174EA6;\n",
              "    }\n",
              "\n",
              "    [theme=dark] .colab-df-convert {\n",
              "      background-color: #3B4455;\n",
              "      fill: #D2E3FC;\n",
              "    }\n",
              "\n",
              "    [theme=dark] .colab-df-convert:hover {\n",
              "      background-color: #434B5C;\n",
              "      box-shadow: 0px 1px 3px 1px rgba(0, 0, 0, 0.15);\n",
              "      filter: drop-shadow(0px 1px 2px rgba(0, 0, 0, 0.3));\n",
              "      fill: #FFFFFF;\n",
              "    }\n",
              "  </style>\n",
              "\n",
              "      <script>\n",
              "        const buttonEl =\n",
              "          document.querySelector('#df-07fb23a5-7dc6-40f0-a72c-2696dd141057 button.colab-df-convert');\n",
              "        buttonEl.style.display =\n",
              "          google.colab.kernel.accessAllowed ? 'block' : 'none';\n",
              "\n",
              "        async function convertToInteractive(key) {\n",
              "          const element = document.querySelector('#df-07fb23a5-7dc6-40f0-a72c-2696dd141057');\n",
              "          const dataTable =\n",
              "            await google.colab.kernel.invokeFunction('convertToInteractive',\n",
              "                                                     [key], {});\n",
              "          if (!dataTable) return;\n",
              "\n",
              "          const docLinkHtml = 'Like what you see? Visit the ' +\n",
              "            '<a target=\"_blank\" href=https://colab.research.google.com/notebooks/data_table.ipynb>data table notebook</a>'\n",
              "            + ' to learn more about interactive tables.';\n",
              "          element.innerHTML = '';\n",
              "          dataTable['output_type'] = 'display_data';\n",
              "          await google.colab.output.renderOutput(dataTable, element);\n",
              "          const docLink = document.createElement('div');\n",
              "          docLink.innerHTML = docLinkHtml;\n",
              "          element.appendChild(docLink);\n",
              "        }\n",
              "      </script>\n",
              "    </div>\n",
              "  </div>\n",
              "  "
            ],
            "text/plain": [
              "     PassengerId  Survived  Pclass     Sex     Age  SibSp  Parch    Fare  \\\n",
              "0              1         0       3    male 22.0000      1      0  7.2500   \n",
              "1              2         1       1  female 38.0000      1      0 71.2833   \n",
              "2              3         1       3  female 26.0000      0      0  7.9250   \n",
              "3              4         1       1  female 35.0000      1      0 53.1000   \n",
              "4              5         0       3    male 35.0000      0      0  8.0500   \n",
              "..           ...       ...     ...     ...     ...    ...    ...     ...   \n",
              "886          887         0       2    male 27.0000      0      0 13.0000   \n",
              "887          888         1       1  female 19.0000      0      0 30.0000   \n",
              "888          889         0       3  female 21.7740      1      2 23.4500   \n",
              "889          890         1       1    male 26.0000      0      0 30.0000   \n",
              "890          891         0       3    male 32.0000      0      0  7.7500   \n",
              "\n",
              "    Embarked Title  \n",
              "0          S    Mr  \n",
              "1          C   Mrs  \n",
              "2          S  Miss  \n",
              "3          S   Mrs  \n",
              "4          S    Mr  \n",
              "..       ...   ...  \n",
              "886        S  Rare  \n",
              "887        S  Miss  \n",
              "888        S  Miss  \n",
              "889        C    Mr  \n",
              "890        Q    Mr  \n",
              "\n",
              "[891 rows x 10 columns]"
            ]
          },
          "execution_count": 303,
          "metadata": {},
          "output_type": "execute_result"
        }
      ],
      "source": [
        "df = df_train.copy()\n",
        "\n",
        "df_train"
      ]
    },
    {
      "cell_type": "markdown",
      "metadata": {
        "id": "lXhFFF0_jwcU"
      },
      "source": [
        "- 범주형 data (`Dtype=object`)수치화"
      ]
    },
    {
      "cell_type": "code",
      "execution_count": null,
      "metadata": {
        "colab": {
          "base_uri": "https://localhost:8080/"
        },
        "id": "u2mzDdiuj0RQ",
        "outputId": "25e218fa-94a8-44f0-92bb-a145e6cceef8"
      },
      "outputs": [
        {
          "data": {
            "text/plain": [
              "male      577\n",
              "female    314\n",
              "Name: Sex, dtype: int64"
            ]
          },
          "execution_count": 304,
          "metadata": {},
          "output_type": "execute_result"
        }
      ],
      "source": [
        "df['Sex'].value_counts()"
      ]
    },
    {
      "cell_type": "code",
      "execution_count": null,
      "metadata": {
        "colab": {
          "base_uri": "https://localhost:8080/"
        },
        "id": "nB7M0w-Sikf8",
        "outputId": "d1f74e77-1419-4982-aa01-95364815563a"
      },
      "outputs": [
        {
          "data": {
            "text/plain": [
              "array([0, 1])"
            ]
          },
          "execution_count": 305,
          "metadata": {},
          "output_type": "execute_result"
        }
      ],
      "source": [
        "# 'Sex' column: male -> 0, female -> 1\n",
        "\n",
        "df['Sex'] = df['Sex'].replace(['male', 'female'], [0, 1])\n",
        "\n",
        "df.Sex.unique()"
      ]
    },
    {
      "cell_type": "code",
      "execution_count": null,
      "metadata": {
        "colab": {
          "base_uri": "https://localhost:8080/"
        },
        "id": "9yYWy6UTs2MD",
        "outputId": "3ef7ce77-1c7b-4989-fa18-4f330485f4b7"
      },
      "outputs": [
        {
          "data": {
            "text/plain": [
              "0    577\n",
              "1    314\n",
              "Name: Sex, dtype: int64"
            ]
          },
          "execution_count": 306,
          "metadata": {},
          "output_type": "execute_result"
        }
      ],
      "source": [
        "df.Sex.value_counts()"
      ]
    },
    {
      "cell_type": "code",
      "execution_count": null,
      "metadata": {
        "colab": {
          "base_uri": "https://localhost:8080/"
        },
        "id": "8g5xB51ojCO2",
        "outputId": "045d717c-472c-4674-dcb2-e718708109a7"
      },
      "outputs": [
        {
          "data": {
            "text/plain": [
              "S    646\n",
              "C    168\n",
              "Q     77\n",
              "Name: Embarked, dtype: int64"
            ]
          },
          "execution_count": 307,
          "metadata": {},
          "output_type": "execute_result"
        }
      ],
      "source": [
        "df.Embarked.value_counts()"
      ]
    },
    {
      "cell_type": "code",
      "execution_count": null,
      "metadata": {
        "colab": {
          "base_uri": "https://localhost:8080/"
        },
        "id": "E3BZP2PZkRot",
        "outputId": "37ea4e79-77ce-42d2-a349-12cc3e6ba4b1"
      },
      "outputs": [
        {
          "data": {
            "text/plain": [
              "array([0, 1, 2])"
            ]
          },
          "execution_count": 308,
          "metadata": {},
          "output_type": "execute_result"
        }
      ],
      "source": [
        "# 'Embarked' column: S -> 0, C -> 1, Q -> 2\n",
        "\n",
        "df.Embarked = df.Embarked.replace(['S', 'C', 'Q'], [0, 1, 2])\n",
        "\n",
        "df.Embarked.unique()"
      ]
    },
    {
      "cell_type": "code",
      "execution_count": null,
      "metadata": {
        "colab": {
          "base_uri": "https://localhost:8080/"
        },
        "id": "CYDNiLmKrYb3",
        "outputId": "8009ccf8-d3a2-46c9-b4e2-7ed90ca6f1de"
      },
      "outputs": [
        {
          "data": {
            "text/plain": [
              "0    646\n",
              "1    168\n",
              "2     77\n",
              "Name: Embarked, dtype: int64"
            ]
          },
          "execution_count": 309,
          "metadata": {},
          "output_type": "execute_result"
        }
      ],
      "source": [
        "df.Embarked.value_counts()"
      ]
    },
    {
      "cell_type": "code",
      "execution_count": null,
      "metadata": {
        "colab": {
          "base_uri": "https://localhost:8080/"
        },
        "id": "Jiamy6_Ds6UL",
        "outputId": "4b88fec7-9ad1-4614-8aef-4c32a0f38449"
      },
      "outputs": [
        {
          "name": "stdout",
          "output_type": "stream",
          "text": [
            "<class 'pandas.core.frame.DataFrame'>\n",
            "RangeIndex: 891 entries, 0 to 890\n",
            "Data columns (total 10 columns):\n",
            " #   Column       Non-Null Count  Dtype  \n",
            "---  ------       --------------  -----  \n",
            " 0   PassengerId  891 non-null    int64  \n",
            " 1   Survived     891 non-null    int64  \n",
            " 2   Pclass       891 non-null    int64  \n",
            " 3   Sex          891 non-null    int64  \n",
            " 4   Age          891 non-null    float64\n",
            " 5   SibSp        891 non-null    int64  \n",
            " 6   Parch        891 non-null    int64  \n",
            " 7   Fare         891 non-null    float64\n",
            " 8   Embarked     891 non-null    int64  \n",
            " 9   Title        891 non-null    object \n",
            "dtypes: float64(2), int64(7), object(1)\n",
            "memory usage: 69.7+ KB\n"
          ]
        }
      ],
      "source": [
        "df.info()"
      ]
    },
    {
      "cell_type": "code",
      "execution_count": null,
      "metadata": {
        "colab": {
          "base_uri": "https://localhost:8080/"
        },
        "id": "MkcUBcMhs8Is",
        "outputId": "312f6e87-5b3c-4a8d-e530-2b0dbad17e46"
      },
      "outputs": [
        {
          "data": {
            "text/plain": [
              "Mr        517\n",
              "Miss      182\n",
              "Mrs       125\n",
              "Master     40\n",
              "Rare       27\n",
              "Name: Title, dtype: int64"
            ]
          },
          "execution_count": 311,
          "metadata": {},
          "output_type": "execute_result"
        }
      ],
      "source": [
        "df.Title.value_counts()"
      ]
    },
    {
      "cell_type": "code",
      "execution_count": null,
      "metadata": {
        "colab": {
          "base_uri": "https://localhost:8080/"
        },
        "id": "pQ1dCIvttIEb",
        "outputId": "3861351f-3baa-497d-a598-d38bba6d3cee"
      },
      "outputs": [
        {
          "data": {
            "text/plain": [
              "['Mr', 'Miss', 'Mrs', 'Master', 'Rare']"
            ]
          },
          "execution_count": 312,
          "metadata": {},
          "output_type": "execute_result"
        }
      ],
      "source": [
        "title_key = list(df.Title.value_counts().index)\n",
        "\n",
        "title_key"
      ]
    },
    {
      "cell_type": "code",
      "execution_count": null,
      "metadata": {
        "colab": {
          "base_uri": "https://localhost:8080/"
        },
        "id": "uFkxlSZYtXhM",
        "outputId": "244a033d-7dc9-4e89-f3a4-9a3c1ece6c75"
      },
      "outputs": [
        {
          "data": {
            "text/plain": [
              "array([0, 2, 1, 3, 4])"
            ]
          },
          "execution_count": 313,
          "metadata": {},
          "output_type": "execute_result"
        }
      ],
      "source": [
        "# 순서대로 0, 1, 2, 3, 4\n",
        "value_list = [0, 1, 2, 3, 4]\n",
        "\n",
        "df.Title = df.Title.replace(title_key, value_list)\n",
        "\n",
        "df['Title'].unique()"
      ]
    },
    {
      "cell_type": "code",
      "execution_count": null,
      "metadata": {
        "colab": {
          "base_uri": "https://localhost:8080/"
        },
        "id": "r7y9Ctx8t1Sz",
        "outputId": "a9deaa00-d15e-41b8-fcfb-97ad6babc9da"
      },
      "outputs": [
        {
          "name": "stdout",
          "output_type": "stream",
          "text": [
            "<class 'pandas.core.frame.DataFrame'>\n",
            "RangeIndex: 891 entries, 0 to 890\n",
            "Data columns (total 10 columns):\n",
            " #   Column       Non-Null Count  Dtype  \n",
            "---  ------       --------------  -----  \n",
            " 0   PassengerId  891 non-null    int64  \n",
            " 1   Survived     891 non-null    int64  \n",
            " 2   Pclass       891 non-null    int64  \n",
            " 3   Sex          891 non-null    int64  \n",
            " 4   Age          891 non-null    float64\n",
            " 5   SibSp        891 non-null    int64  \n",
            " 6   Parch        891 non-null    int64  \n",
            " 7   Fare         891 non-null    float64\n",
            " 8   Embarked     891 non-null    int64  \n",
            " 9   Title        891 non-null    int64  \n",
            "dtypes: float64(2), int64(8)\n",
            "memory usage: 69.7 KB\n"
          ]
        }
      ],
      "source": [
        "df.info()"
      ]
    },
    {
      "cell_type": "code",
      "execution_count": null,
      "metadata": {
        "colab": {
          "base_uri": "https://localhost:8080/",
          "height": 300
        },
        "id": "5HQQXXmJup3e",
        "outputId": "91d66707-4d7a-4606-9500-0345d4b0b50c"
      },
      "outputs": [
        {
          "data": {
            "text/html": [
              "\n",
              "  <div id=\"df-6ecb2773-69be-4003-8e2b-707ac7f5b3a1\">\n",
              "    <div class=\"colab-df-container\">\n",
              "      <div>\n",
              "<style scoped>\n",
              "    .dataframe tbody tr th:only-of-type {\n",
              "        vertical-align: middle;\n",
              "    }\n",
              "\n",
              "    .dataframe tbody tr th {\n",
              "        vertical-align: top;\n",
              "    }\n",
              "\n",
              "    .dataframe thead th {\n",
              "        text-align: right;\n",
              "    }\n",
              "</style>\n",
              "<table border=\"1\" class=\"dataframe\">\n",
              "  <thead>\n",
              "    <tr style=\"text-align: right;\">\n",
              "      <th></th>\n",
              "      <th>PassengerId</th>\n",
              "      <th>Survived</th>\n",
              "      <th>Pclass</th>\n",
              "      <th>Sex</th>\n",
              "      <th>Age</th>\n",
              "      <th>SibSp</th>\n",
              "      <th>Parch</th>\n",
              "      <th>Fare</th>\n",
              "      <th>Embarked</th>\n",
              "      <th>Title</th>\n",
              "    </tr>\n",
              "  </thead>\n",
              "  <tbody>\n",
              "    <tr>\n",
              "      <th>count</th>\n",
              "      <td>891.0000</td>\n",
              "      <td>891.0000</td>\n",
              "      <td>891.0000</td>\n",
              "      <td>891.0000</td>\n",
              "      <td>891.0000</td>\n",
              "      <td>891.0000</td>\n",
              "      <td>891.0000</td>\n",
              "      <td>891.0000</td>\n",
              "      <td>891.0000</td>\n",
              "      <td>891.0000</td>\n",
              "    </tr>\n",
              "    <tr>\n",
              "      <th>mean</th>\n",
              "      <td>446.0000</td>\n",
              "      <td>0.3838</td>\n",
              "      <td>2.3086</td>\n",
              "      <td>0.3524</td>\n",
              "      <td>29.7551</td>\n",
              "      <td>0.5230</td>\n",
              "      <td>0.3816</td>\n",
              "      <td>32.2042</td>\n",
              "      <td>0.3614</td>\n",
              "      <td>0.7407</td>\n",
              "    </tr>\n",
              "    <tr>\n",
              "      <th>std</th>\n",
              "      <td>257.3538</td>\n",
              "      <td>0.4866</td>\n",
              "      <td>0.8361</td>\n",
              "      <td>0.4780</td>\n",
              "      <td>13.2776</td>\n",
              "      <td>1.1027</td>\n",
              "      <td>0.8061</td>\n",
              "      <td>49.6934</td>\n",
              "      <td>0.6357</td>\n",
              "      <td>1.0521</td>\n",
              "    </tr>\n",
              "    <tr>\n",
              "      <th>min</th>\n",
              "      <td>1.0000</td>\n",
              "      <td>0.0000</td>\n",
              "      <td>1.0000</td>\n",
              "      <td>0.0000</td>\n",
              "      <td>0.4200</td>\n",
              "      <td>0.0000</td>\n",
              "      <td>0.0000</td>\n",
              "      <td>0.0000</td>\n",
              "      <td>0.0000</td>\n",
              "      <td>0.0000</td>\n",
              "    </tr>\n",
              "    <tr>\n",
              "      <th>25%</th>\n",
              "      <td>223.5000</td>\n",
              "      <td>0.0000</td>\n",
              "      <td>2.0000</td>\n",
              "      <td>0.0000</td>\n",
              "      <td>21.7740</td>\n",
              "      <td>0.0000</td>\n",
              "      <td>0.0000</td>\n",
              "      <td>7.9104</td>\n",
              "      <td>0.0000</td>\n",
              "      <td>0.0000</td>\n",
              "    </tr>\n",
              "    <tr>\n",
              "      <th>50%</th>\n",
              "      <td>446.0000</td>\n",
              "      <td>0.0000</td>\n",
              "      <td>3.0000</td>\n",
              "      <td>0.0000</td>\n",
              "      <td>30.0000</td>\n",
              "      <td>0.0000</td>\n",
              "      <td>0.0000</td>\n",
              "      <td>14.4542</td>\n",
              "      <td>0.0000</td>\n",
              "      <td>0.0000</td>\n",
              "    </tr>\n",
              "    <tr>\n",
              "      <th>75%</th>\n",
              "      <td>668.5000</td>\n",
              "      <td>1.0000</td>\n",
              "      <td>3.0000</td>\n",
              "      <td>1.0000</td>\n",
              "      <td>35.8981</td>\n",
              "      <td>1.0000</td>\n",
              "      <td>0.0000</td>\n",
              "      <td>31.0000</td>\n",
              "      <td>1.0000</td>\n",
              "      <td>1.0000</td>\n",
              "    </tr>\n",
              "    <tr>\n",
              "      <th>max</th>\n",
              "      <td>891.0000</td>\n",
              "      <td>1.0000</td>\n",
              "      <td>3.0000</td>\n",
              "      <td>1.0000</td>\n",
              "      <td>80.0000</td>\n",
              "      <td>8.0000</td>\n",
              "      <td>6.0000</td>\n",
              "      <td>512.3292</td>\n",
              "      <td>2.0000</td>\n",
              "      <td>4.0000</td>\n",
              "    </tr>\n",
              "  </tbody>\n",
              "</table>\n",
              "</div>\n",
              "      <button class=\"colab-df-convert\" onclick=\"convertToInteractive('df-6ecb2773-69be-4003-8e2b-707ac7f5b3a1')\"\n",
              "              title=\"Convert this dataframe to an interactive table.\"\n",
              "              style=\"display:none;\">\n",
              "        \n",
              "  <svg xmlns=\"http://www.w3.org/2000/svg\" height=\"24px\"viewBox=\"0 0 24 24\"\n",
              "       width=\"24px\">\n",
              "    <path d=\"M0 0h24v24H0V0z\" fill=\"none\"/>\n",
              "    <path d=\"M18.56 5.44l.94 2.06.94-2.06 2.06-.94-2.06-.94-.94-2.06-.94 2.06-2.06.94zm-11 1L8.5 8.5l.94-2.06 2.06-.94-2.06-.94L8.5 2.5l-.94 2.06-2.06.94zm10 10l.94 2.06.94-2.06 2.06-.94-2.06-.94-.94-2.06-.94 2.06-2.06.94z\"/><path d=\"M17.41 7.96l-1.37-1.37c-.4-.4-.92-.59-1.43-.59-.52 0-1.04.2-1.43.59L10.3 9.45l-7.72 7.72c-.78.78-.78 2.05 0 2.83L4 21.41c.39.39.9.59 1.41.59.51 0 1.02-.2 1.41-.59l7.78-7.78 2.81-2.81c.8-.78.8-2.07 0-2.86zM5.41 20L4 18.59l7.72-7.72 1.47 1.35L5.41 20z\"/>\n",
              "  </svg>\n",
              "      </button>\n",
              "      \n",
              "  <style>\n",
              "    .colab-df-container {\n",
              "      display:flex;\n",
              "      flex-wrap:wrap;\n",
              "      gap: 12px;\n",
              "    }\n",
              "\n",
              "    .colab-df-convert {\n",
              "      background-color: #E8F0FE;\n",
              "      border: none;\n",
              "      border-radius: 50%;\n",
              "      cursor: pointer;\n",
              "      display: none;\n",
              "      fill: #1967D2;\n",
              "      height: 32px;\n",
              "      padding: 0 0 0 0;\n",
              "      width: 32px;\n",
              "    }\n",
              "\n",
              "    .colab-df-convert:hover {\n",
              "      background-color: #E2EBFA;\n",
              "      box-shadow: 0px 1px 2px rgba(60, 64, 67, 0.3), 0px 1px 3px 1px rgba(60, 64, 67, 0.15);\n",
              "      fill: #174EA6;\n",
              "    }\n",
              "\n",
              "    [theme=dark] .colab-df-convert {\n",
              "      background-color: #3B4455;\n",
              "      fill: #D2E3FC;\n",
              "    }\n",
              "\n",
              "    [theme=dark] .colab-df-convert:hover {\n",
              "      background-color: #434B5C;\n",
              "      box-shadow: 0px 1px 3px 1px rgba(0, 0, 0, 0.15);\n",
              "      filter: drop-shadow(0px 1px 2px rgba(0, 0, 0, 0.3));\n",
              "      fill: #FFFFFF;\n",
              "    }\n",
              "  </style>\n",
              "\n",
              "      <script>\n",
              "        const buttonEl =\n",
              "          document.querySelector('#df-6ecb2773-69be-4003-8e2b-707ac7f5b3a1 button.colab-df-convert');\n",
              "        buttonEl.style.display =\n",
              "          google.colab.kernel.accessAllowed ? 'block' : 'none';\n",
              "\n",
              "        async function convertToInteractive(key) {\n",
              "          const element = document.querySelector('#df-6ecb2773-69be-4003-8e2b-707ac7f5b3a1');\n",
              "          const dataTable =\n",
              "            await google.colab.kernel.invokeFunction('convertToInteractive',\n",
              "                                                     [key], {});\n",
              "          if (!dataTable) return;\n",
              "\n",
              "          const docLinkHtml = 'Like what you see? Visit the ' +\n",
              "            '<a target=\"_blank\" href=https://colab.research.google.com/notebooks/data_table.ipynb>data table notebook</a>'\n",
              "            + ' to learn more about interactive tables.';\n",
              "          element.innerHTML = '';\n",
              "          dataTable['output_type'] = 'display_data';\n",
              "          await google.colab.output.renderOutput(dataTable, element);\n",
              "          const docLink = document.createElement('div');\n",
              "          docLink.innerHTML = docLinkHtml;\n",
              "          element.appendChild(docLink);\n",
              "        }\n",
              "      </script>\n",
              "    </div>\n",
              "  </div>\n",
              "  "
            ],
            "text/plain": [
              "       PassengerId  Survived   Pclass      Sex      Age    SibSp    Parch  \\\n",
              "count     891.0000  891.0000 891.0000 891.0000 891.0000 891.0000 891.0000   \n",
              "mean      446.0000    0.3838   2.3086   0.3524  29.7551   0.5230   0.3816   \n",
              "std       257.3538    0.4866   0.8361   0.4780  13.2776   1.1027   0.8061   \n",
              "min         1.0000    0.0000   1.0000   0.0000   0.4200   0.0000   0.0000   \n",
              "25%       223.5000    0.0000   2.0000   0.0000  21.7740   0.0000   0.0000   \n",
              "50%       446.0000    0.0000   3.0000   0.0000  30.0000   0.0000   0.0000   \n",
              "75%       668.5000    1.0000   3.0000   1.0000  35.8981   1.0000   0.0000   \n",
              "max       891.0000    1.0000   3.0000   1.0000  80.0000   8.0000   6.0000   \n",
              "\n",
              "          Fare  Embarked    Title  \n",
              "count 891.0000  891.0000 891.0000  \n",
              "mean   32.2042    0.3614   0.7407  \n",
              "std    49.6934    0.6357   1.0521  \n",
              "min     0.0000    0.0000   0.0000  \n",
              "25%     7.9104    0.0000   0.0000  \n",
              "50%    14.4542    0.0000   0.0000  \n",
              "75%    31.0000    1.0000   1.0000  \n",
              "max   512.3292    2.0000   4.0000  "
            ]
          },
          "execution_count": 315,
          "metadata": {},
          "output_type": "execute_result"
        }
      ],
      "source": [
        "pd.options.display.float_format = '{:,.4f}'.format\n",
        "df.describe()"
      ]
    },
    {
      "cell_type": "code",
      "execution_count": null,
      "metadata": {
        "colab": {
          "base_uri": "https://localhost:8080/",
          "height": 424
        },
        "id": "DqnzmJfj5Elh",
        "outputId": "f6da3172-da5b-4797-c663-be80068ca679"
      },
      "outputs": [
        {
          "data": {
            "text/html": [
              "\n",
              "  <div id=\"df-c63a0685-f00f-4080-8645-0cdc4ec7f6d7\">\n",
              "    <div class=\"colab-df-container\">\n",
              "      <div>\n",
              "<style scoped>\n",
              "    .dataframe tbody tr th:only-of-type {\n",
              "        vertical-align: middle;\n",
              "    }\n",
              "\n",
              "    .dataframe tbody tr th {\n",
              "        vertical-align: top;\n",
              "    }\n",
              "\n",
              "    .dataframe thead th {\n",
              "        text-align: right;\n",
              "    }\n",
              "</style>\n",
              "<table border=\"1\" class=\"dataframe\">\n",
              "  <thead>\n",
              "    <tr style=\"text-align: right;\">\n",
              "      <th></th>\n",
              "      <th>Survived</th>\n",
              "      <th>Pclass</th>\n",
              "      <th>Sex</th>\n",
              "      <th>Age</th>\n",
              "      <th>SibSp</th>\n",
              "      <th>Parch</th>\n",
              "      <th>Fare</th>\n",
              "      <th>Embarked</th>\n",
              "      <th>Title</th>\n",
              "    </tr>\n",
              "  </thead>\n",
              "  <tbody>\n",
              "    <tr>\n",
              "      <th>0</th>\n",
              "      <td>0</td>\n",
              "      <td>3</td>\n",
              "      <td>0</td>\n",
              "      <td>22.0000</td>\n",
              "      <td>1</td>\n",
              "      <td>0</td>\n",
              "      <td>7.2500</td>\n",
              "      <td>0</td>\n",
              "      <td>0</td>\n",
              "    </tr>\n",
              "    <tr>\n",
              "      <th>1</th>\n",
              "      <td>1</td>\n",
              "      <td>1</td>\n",
              "      <td>1</td>\n",
              "      <td>38.0000</td>\n",
              "      <td>1</td>\n",
              "      <td>0</td>\n",
              "      <td>71.2833</td>\n",
              "      <td>1</td>\n",
              "      <td>2</td>\n",
              "    </tr>\n",
              "    <tr>\n",
              "      <th>2</th>\n",
              "      <td>1</td>\n",
              "      <td>3</td>\n",
              "      <td>1</td>\n",
              "      <td>26.0000</td>\n",
              "      <td>0</td>\n",
              "      <td>0</td>\n",
              "      <td>7.9250</td>\n",
              "      <td>0</td>\n",
              "      <td>1</td>\n",
              "    </tr>\n",
              "    <tr>\n",
              "      <th>3</th>\n",
              "      <td>1</td>\n",
              "      <td>1</td>\n",
              "      <td>1</td>\n",
              "      <td>35.0000</td>\n",
              "      <td>1</td>\n",
              "      <td>0</td>\n",
              "      <td>53.1000</td>\n",
              "      <td>0</td>\n",
              "      <td>2</td>\n",
              "    </tr>\n",
              "    <tr>\n",
              "      <th>4</th>\n",
              "      <td>0</td>\n",
              "      <td>3</td>\n",
              "      <td>0</td>\n",
              "      <td>35.0000</td>\n",
              "      <td>0</td>\n",
              "      <td>0</td>\n",
              "      <td>8.0500</td>\n",
              "      <td>0</td>\n",
              "      <td>0</td>\n",
              "    </tr>\n",
              "    <tr>\n",
              "      <th>...</th>\n",
              "      <td>...</td>\n",
              "      <td>...</td>\n",
              "      <td>...</td>\n",
              "      <td>...</td>\n",
              "      <td>...</td>\n",
              "      <td>...</td>\n",
              "      <td>...</td>\n",
              "      <td>...</td>\n",
              "      <td>...</td>\n",
              "    </tr>\n",
              "    <tr>\n",
              "      <th>886</th>\n",
              "      <td>0</td>\n",
              "      <td>2</td>\n",
              "      <td>0</td>\n",
              "      <td>27.0000</td>\n",
              "      <td>0</td>\n",
              "      <td>0</td>\n",
              "      <td>13.0000</td>\n",
              "      <td>0</td>\n",
              "      <td>4</td>\n",
              "    </tr>\n",
              "    <tr>\n",
              "      <th>887</th>\n",
              "      <td>1</td>\n",
              "      <td>1</td>\n",
              "      <td>1</td>\n",
              "      <td>19.0000</td>\n",
              "      <td>0</td>\n",
              "      <td>0</td>\n",
              "      <td>30.0000</td>\n",
              "      <td>0</td>\n",
              "      <td>1</td>\n",
              "    </tr>\n",
              "    <tr>\n",
              "      <th>888</th>\n",
              "      <td>0</td>\n",
              "      <td>3</td>\n",
              "      <td>1</td>\n",
              "      <td>21.7740</td>\n",
              "      <td>1</td>\n",
              "      <td>2</td>\n",
              "      <td>23.4500</td>\n",
              "      <td>0</td>\n",
              "      <td>1</td>\n",
              "    </tr>\n",
              "    <tr>\n",
              "      <th>889</th>\n",
              "      <td>1</td>\n",
              "      <td>1</td>\n",
              "      <td>0</td>\n",
              "      <td>26.0000</td>\n",
              "      <td>0</td>\n",
              "      <td>0</td>\n",
              "      <td>30.0000</td>\n",
              "      <td>1</td>\n",
              "      <td>0</td>\n",
              "    </tr>\n",
              "    <tr>\n",
              "      <th>890</th>\n",
              "      <td>0</td>\n",
              "      <td>3</td>\n",
              "      <td>0</td>\n",
              "      <td>32.0000</td>\n",
              "      <td>0</td>\n",
              "      <td>0</td>\n",
              "      <td>7.7500</td>\n",
              "      <td>2</td>\n",
              "      <td>0</td>\n",
              "    </tr>\n",
              "  </tbody>\n",
              "</table>\n",
              "<p>891 rows × 9 columns</p>\n",
              "</div>\n",
              "      <button class=\"colab-df-convert\" onclick=\"convertToInteractive('df-c63a0685-f00f-4080-8645-0cdc4ec7f6d7')\"\n",
              "              title=\"Convert this dataframe to an interactive table.\"\n",
              "              style=\"display:none;\">\n",
              "        \n",
              "  <svg xmlns=\"http://www.w3.org/2000/svg\" height=\"24px\"viewBox=\"0 0 24 24\"\n",
              "       width=\"24px\">\n",
              "    <path d=\"M0 0h24v24H0V0z\" fill=\"none\"/>\n",
              "    <path d=\"M18.56 5.44l.94 2.06.94-2.06 2.06-.94-2.06-.94-.94-2.06-.94 2.06-2.06.94zm-11 1L8.5 8.5l.94-2.06 2.06-.94-2.06-.94L8.5 2.5l-.94 2.06-2.06.94zm10 10l.94 2.06.94-2.06 2.06-.94-2.06-.94-.94-2.06-.94 2.06-2.06.94z\"/><path d=\"M17.41 7.96l-1.37-1.37c-.4-.4-.92-.59-1.43-.59-.52 0-1.04.2-1.43.59L10.3 9.45l-7.72 7.72c-.78.78-.78 2.05 0 2.83L4 21.41c.39.39.9.59 1.41.59.51 0 1.02-.2 1.41-.59l7.78-7.78 2.81-2.81c.8-.78.8-2.07 0-2.86zM5.41 20L4 18.59l7.72-7.72 1.47 1.35L5.41 20z\"/>\n",
              "  </svg>\n",
              "      </button>\n",
              "      \n",
              "  <style>\n",
              "    .colab-df-container {\n",
              "      display:flex;\n",
              "      flex-wrap:wrap;\n",
              "      gap: 12px;\n",
              "    }\n",
              "\n",
              "    .colab-df-convert {\n",
              "      background-color: #E8F0FE;\n",
              "      border: none;\n",
              "      border-radius: 50%;\n",
              "      cursor: pointer;\n",
              "      display: none;\n",
              "      fill: #1967D2;\n",
              "      height: 32px;\n",
              "      padding: 0 0 0 0;\n",
              "      width: 32px;\n",
              "    }\n",
              "\n",
              "    .colab-df-convert:hover {\n",
              "      background-color: #E2EBFA;\n",
              "      box-shadow: 0px 1px 2px rgba(60, 64, 67, 0.3), 0px 1px 3px 1px rgba(60, 64, 67, 0.15);\n",
              "      fill: #174EA6;\n",
              "    }\n",
              "\n",
              "    [theme=dark] .colab-df-convert {\n",
              "      background-color: #3B4455;\n",
              "      fill: #D2E3FC;\n",
              "    }\n",
              "\n",
              "    [theme=dark] .colab-df-convert:hover {\n",
              "      background-color: #434B5C;\n",
              "      box-shadow: 0px 1px 3px 1px rgba(0, 0, 0, 0.15);\n",
              "      filter: drop-shadow(0px 1px 2px rgba(0, 0, 0, 0.3));\n",
              "      fill: #FFFFFF;\n",
              "    }\n",
              "  </style>\n",
              "\n",
              "      <script>\n",
              "        const buttonEl =\n",
              "          document.querySelector('#df-c63a0685-f00f-4080-8645-0cdc4ec7f6d7 button.colab-df-convert');\n",
              "        buttonEl.style.display =\n",
              "          google.colab.kernel.accessAllowed ? 'block' : 'none';\n",
              "\n",
              "        async function convertToInteractive(key) {\n",
              "          const element = document.querySelector('#df-c63a0685-f00f-4080-8645-0cdc4ec7f6d7');\n",
              "          const dataTable =\n",
              "            await google.colab.kernel.invokeFunction('convertToInteractive',\n",
              "                                                     [key], {});\n",
              "          if (!dataTable) return;\n",
              "\n",
              "          const docLinkHtml = 'Like what you see? Visit the ' +\n",
              "            '<a target=\"_blank\" href=https://colab.research.google.com/notebooks/data_table.ipynb>data table notebook</a>'\n",
              "            + ' to learn more about interactive tables.';\n",
              "          element.innerHTML = '';\n",
              "          dataTable['output_type'] = 'display_data';\n",
              "          await google.colab.output.renderOutput(dataTable, element);\n",
              "          const docLink = document.createElement('div');\n",
              "          docLink.innerHTML = docLinkHtml;\n",
              "          element.appendChild(docLink);\n",
              "        }\n",
              "      </script>\n",
              "    </div>\n",
              "  </div>\n",
              "  "
            ],
            "text/plain": [
              "     Survived  Pclass  Sex     Age  SibSp  Parch    Fare  Embarked  Title\n",
              "0           0       3    0 22.0000      1      0  7.2500         0      0\n",
              "1           1       1    1 38.0000      1      0 71.2833         1      2\n",
              "2           1       3    1 26.0000      0      0  7.9250         0      1\n",
              "3           1       1    1 35.0000      1      0 53.1000         0      2\n",
              "4           0       3    0 35.0000      0      0  8.0500         0      0\n",
              "..        ...     ...  ...     ...    ...    ...     ...       ...    ...\n",
              "886         0       2    0 27.0000      0      0 13.0000         0      4\n",
              "887         1       1    1 19.0000      0      0 30.0000         0      1\n",
              "888         0       3    1 21.7740      1      2 23.4500         0      1\n",
              "889         1       1    0 26.0000      0      0 30.0000         1      0\n",
              "890         0       3    0 32.0000      0      0  7.7500         2      0\n",
              "\n",
              "[891 rows x 9 columns]"
            ]
          },
          "execution_count": 316,
          "metadata": {},
          "output_type": "execute_result"
        }
      ],
      "source": [
        "df = df.drop('PassengerId', axis=1)\n",
        "\n",
        "df"
      ]
    },
    {
      "cell_type": "markdown",
      "metadata": {
        "id": "WYxQNzI0t3Os"
      },
      "source": [
        "### 3. Model training"
      ]
    },
    {
      "cell_type": "code",
      "execution_count": null,
      "metadata": {
        "id": "a57tuChDuZV6"
      },
      "outputs": [],
      "source": [
        "# train set과 test set 분리\n",
        "from sklearn.model_selection import train_test_split\n",
        "X_train, X_test, y_train, y_test = train_test_split(\n",
        "    # 'Survived' column: 종속 변수\n",
        "    df.drop('Survived', axis=1),\n",
        "    df.Survived, test_size = 0.2, random_state = 314\n",
        ")"
      ]
    },
    {
      "cell_type": "code",
      "execution_count": null,
      "metadata": {
        "colab": {
          "base_uri": "https://localhost:8080/"
        },
        "id": "dnLAqLvZue8F",
        "outputId": "2c83418d-89d1-4a54-aeba-0a899b156f81"
      },
      "outputs": [
        {
          "data": {
            "text/plain": [
              "array([[1.        , 0.        , 0.50364413, ..., 0.01512699, 1.        ,\n",
              "        0.        ],\n",
              "       [0.5       , 0.        , 0.09525006, ..., 0.07173122, 0.        ,\n",
              "        0.75      ],\n",
              "       [0.5       , 0.        , 0.42196532, ..., 0.05074862, 0.        ,\n",
              "        0.        ],\n",
              "       ...,\n",
              "       [0.5       , 0.        , 0.23347575, ..., 0.02049464, 0.        ,\n",
              "        0.        ],\n",
              "       [0.5       , 0.        , 0.03242021, ..., 0.05074862, 0.        ,\n",
              "        0.75      ],\n",
              "       [1.        , 0.        , 0.32143755, ..., 0.01690807, 0.        ,\n",
              "        0.        ]])"
            ]
          },
          "execution_count": 318,
          "metadata": {},
          "output_type": "execute_result"
        }
      ],
      "source": [
        "from sklearn.preprocessing import MinMaxScaler\n",
        "\n",
        "mm_scaler = MinMaxScaler()\n",
        "\n",
        "X_train_scaled = mm_scaler.fit_transform(X_train)\n",
        "X_test_scaled = mm_scaler.transform(X_test)\n",
        "\n",
        "X_test_scaled"
      ]
    },
    {
      "cell_type": "code",
      "execution_count": null,
      "metadata": {
        "colab": {
          "base_uri": "https://localhost:8080/"
        },
        "id": "PAU3cVRNvfgu",
        "outputId": "f2593210-8588-4743-dbaa-0b491aef3bec"
      },
      "outputs": [
        {
          "data": {
            "text/plain": [
              "array([0, 1, 0, 1, 0, 0, 0, 0, 0, 1, 1, 0, 0, 0, 0, 1, 0, 0, 0, 0, 0, 0,\n",
              "       0, 0, 0, 0, 0, 0, 1, 0, 0, 0, 1, 1, 0, 0, 1, 0, 1, 0, 1, 0, 0, 0,\n",
              "       0, 1, 0, 0, 0, 0, 0, 0, 0, 0, 1, 1, 0, 0, 1, 1, 1, 1, 1, 0, 1, 1,\n",
              "       0, 0, 0, 0, 0, 0, 1, 0, 0, 0, 0, 0, 0, 0, 0, 0, 0, 1, 0, 1, 0, 0,\n",
              "       0, 0, 1, 1, 1, 1, 1, 0, 0, 0, 0, 0, 1, 1, 0, 1, 0, 1, 1, 0, 1, 0,\n",
              "       0, 1, 1, 0, 1, 1, 0, 0, 0, 0, 0, 0, 0, 1, 0, 0, 1, 0, 0, 0, 1, 0,\n",
              "       0, 1, 0, 1, 0, 0, 0, 1, 1, 1, 1, 0, 0, 1, 1, 0, 1, 1, 1, 0, 1, 0,\n",
              "       0, 0, 0, 0, 0, 1, 1, 0, 1, 0, 0, 0, 1, 0, 1, 1, 0, 0, 1, 0, 0, 1,\n",
              "       0, 1, 0])"
            ]
          },
          "execution_count": 319,
          "metadata": {},
          "output_type": "execute_result"
        }
      ],
      "source": [
        "from sklearn.neighbors import KNeighborsClassifier\n",
        "\n",
        "knn = KNeighborsClassifier()\n",
        "knn.fit(X_train_scaled, y_train)\n",
        "pred = knn.predict(X_test_scaled)\n",
        "\n",
        "pred"
      ]
    },
    {
      "cell_type": "markdown",
      "metadata": {
        "id": "CYhDwVczvziV"
      },
      "source": [
        "### 4. Model 평가"
      ]
    },
    {
      "cell_type": "code",
      "execution_count": null,
      "metadata": {
        "colab": {
          "base_uri": "https://localhost:8080/"
        },
        "id": "Mf4OZ9cZvgmM",
        "outputId": "4ef5aaf2-b029-4fc0-953c-e769ab2adf0e"
      },
      "outputs": [
        {
          "data": {
            "text/plain": [
              "0.8324022346368715"
            ]
          },
          "execution_count": 320,
          "metadata": {},
          "output_type": "execute_result"
        }
      ],
      "source": [
        "from sklearn.metrics import accuracy_score\n",
        "\n",
        "accuracy_score(y_test, pred)"
      ]
    },
    {
      "cell_type": "code",
      "execution_count": null,
      "metadata": {
        "id": "_MzzND4lvn8a"
      },
      "outputs": [],
      "source": [
        "def tuning(n: int) -> float:\n",
        "  knn = KNeighborsClassifier(n_neighbors=n)\n",
        "  # fit할 때 setting됨\n",
        "  knn.fit(X_train_scaled, y_train)\n",
        "\n",
        "  pred = knn.predict(X_test_scaled)\n",
        "  score = accuracy_score(y_test, pred)\n",
        "  return score"
      ]
    },
    {
      "cell_type": "code",
      "execution_count": null,
      "metadata": {
        "id": "mvTUWaB9v5Qz"
      },
      "outputs": [],
      "source": [
        "train_list = [[i, tuning(i)] for i in range(1,101)]"
      ]
    },
    {
      "cell_type": "code",
      "execution_count": null,
      "metadata": {
        "colab": {
          "base_uri": "https://localhost:8080/"
        },
        "id": "EDbJHUTiwEB9",
        "outputId": "8b69b863-8043-4142-a3ae-bc80cd93cec3"
      },
      "outputs": [
        {
          "data": {
            "text/plain": [
              "[[14, 0.8603351955307262],\n",
              " [20, 0.8603351955307262],\n",
              " [21, 0.8603351955307262],\n",
              " [13, 0.8547486033519553],\n",
              " [16, 0.8547486033519553],\n",
              " [18, 0.8547486033519553],\n",
              " [23, 0.8547486033519553],\n",
              " [11, 0.8491620111731844],\n",
              " [15, 0.8491620111731844],\n",
              " [17, 0.8491620111731844],\n",
              " [19, 0.8491620111731844],\n",
              " [8, 0.8435754189944135],\n",
              " [10, 0.8435754189944135],\n",
              " [12, 0.8435754189944135],\n",
              " [22, 0.8435754189944135],\n",
              " [2, 0.8379888268156425],\n",
              " [4, 0.8379888268156425],\n",
              " [24, 0.8379888268156425],\n",
              " [25, 0.8379888268156425],\n",
              " [5, 0.8324022346368715],\n",
              " [9, 0.8324022346368715],\n",
              " [26, 0.8324022346368715],\n",
              " [27, 0.8324022346368715],\n",
              " [3, 0.8268156424581006],\n",
              " [6, 0.8268156424581006],\n",
              " [67, 0.8268156424581006],\n",
              " [69, 0.8268156424581006],\n",
              " [70, 0.8268156424581006],\n",
              " [71, 0.8268156424581006],\n",
              " [72, 0.8268156424581006],\n",
              " [7, 0.8212290502793296],\n",
              " [30, 0.8212290502793296],\n",
              " [31, 0.8212290502793296],\n",
              " [32, 0.8212290502793296],\n",
              " [33, 0.8212290502793296],\n",
              " [36, 0.8212290502793296],\n",
              " [38, 0.8212290502793296],\n",
              " [42, 0.8212290502793296],\n",
              " [48, 0.8212290502793296],\n",
              " [50, 0.8212290502793296],\n",
              " [51, 0.8212290502793296],\n",
              " [52, 0.8212290502793296],\n",
              " [53, 0.8212290502793296],\n",
              " [54, 0.8212290502793296],\n",
              " [55, 0.8212290502793296],\n",
              " [56, 0.8212290502793296],\n",
              " [57, 0.8212290502793296],\n",
              " [58, 0.8212290502793296],\n",
              " [59, 0.8212290502793296],\n",
              " [60, 0.8212290502793296],\n",
              " [63, 0.8212290502793296],\n",
              " [64, 0.8212290502793296],\n",
              " [65, 0.8212290502793296],\n",
              " [66, 0.8212290502793296],\n",
              " [68, 0.8212290502793296],\n",
              " [28, 0.8156424581005587],\n",
              " [29, 0.8156424581005587],\n",
              " [34, 0.8156424581005587],\n",
              " [35, 0.8156424581005587],\n",
              " [37, 0.8156424581005587],\n",
              " [39, 0.8156424581005587],\n",
              " [40, 0.8156424581005587],\n",
              " [41, 0.8156424581005587],\n",
              " [44, 0.8156424581005587],\n",
              " [45, 0.8156424581005587],\n",
              " [46, 0.8156424581005587],\n",
              " [47, 0.8156424581005587],\n",
              " [49, 0.8156424581005587],\n",
              " [61, 0.8156424581005587],\n",
              " [62, 0.8156424581005587],\n",
              " [43, 0.8100558659217877],\n",
              " [73, 0.8100558659217877],\n",
              " [74, 0.8100558659217877],\n",
              " [76, 0.8100558659217877],\n",
              " [75, 0.8044692737430168],\n",
              " [79, 0.8044692737430168],\n",
              " [80, 0.8044692737430168],\n",
              " [81, 0.8044692737430168],\n",
              " [82, 0.8044692737430168],\n",
              " [86, 0.8044692737430168],\n",
              " [77, 0.7988826815642458],\n",
              " [78, 0.7988826815642458],\n",
              " [83, 0.7988826815642458],\n",
              " [84, 0.7988826815642458],\n",
              " [85, 0.7988826815642458],\n",
              " [87, 0.7988826815642458],\n",
              " [88, 0.7988826815642458],\n",
              " [89, 0.7988826815642458],\n",
              " [90, 0.7988826815642458],\n",
              " [92, 0.7988826815642458],\n",
              " [91, 0.7932960893854749],\n",
              " [93, 0.7932960893854749],\n",
              " [94, 0.7932960893854749],\n",
              " [95, 0.7932960893854749],\n",
              " [96, 0.7932960893854749],\n",
              " [97, 0.7932960893854749],\n",
              " [98, 0.7932960893854749],\n",
              " [99, 0.7932960893854749],\n",
              " [100, 0.7932960893854749],\n",
              " [1, 0.770949720670391]]"
            ]
          },
          "execution_count": 323,
          "metadata": {},
          "output_type": "execute_result"
        }
      ],
      "source": [
        "sorted(train_list, key=lambda x: x[1], reverse=True)"
      ]
    },
    {
      "cell_type": "code",
      "execution_count": null,
      "metadata": {
        "colab": {
          "base_uri": "https://localhost:8080/",
          "height": 332
        },
        "id": "j9rbxIG-3WhC",
        "outputId": "283515bc-dc87-4059-ced1-b570ca806e93"
      },
      "outputs": [
        {
          "data": {
            "text/html": [
              "\n",
              "  <div id=\"df-9d7b3655-4f58-440f-9050-7ce84dbd7864\">\n",
              "    <div class=\"colab-df-container\">\n",
              "      <div>\n",
              "<style scoped>\n",
              "    .dataframe tbody tr th:only-of-type {\n",
              "        vertical-align: middle;\n",
              "    }\n",
              "\n",
              "    .dataframe tbody tr th {\n",
              "        vertical-align: top;\n",
              "    }\n",
              "\n",
              "    .dataframe thead th {\n",
              "        text-align: right;\n",
              "    }\n",
              "</style>\n",
              "<table border=\"1\" class=\"dataframe\">\n",
              "  <thead>\n",
              "    <tr style=\"text-align: right;\">\n",
              "      <th></th>\n",
              "      <th>Survived</th>\n",
              "      <th>Pclass</th>\n",
              "      <th>Sex</th>\n",
              "      <th>Age</th>\n",
              "      <th>SibSp</th>\n",
              "      <th>Parch</th>\n",
              "      <th>Fare</th>\n",
              "      <th>Embarked</th>\n",
              "      <th>Title</th>\n",
              "    </tr>\n",
              "  </thead>\n",
              "  <tbody>\n",
              "    <tr>\n",
              "      <th>Survived</th>\n",
              "      <td>1.0000</td>\n",
              "      <td>-0.3385</td>\n",
              "      <td>0.5434</td>\n",
              "      <td>-0.0892</td>\n",
              "      <td>-0.0353</td>\n",
              "      <td>0.0816</td>\n",
              "      <td>0.2573</td>\n",
              "      <td>0.1068</td>\n",
              "      <td>0.4141</td>\n",
              "    </tr>\n",
              "    <tr>\n",
              "      <th>Pclass</th>\n",
              "      <td>-0.3385</td>\n",
              "      <td>1.0000</td>\n",
              "      <td>-0.1319</td>\n",
              "      <td>-0.3436</td>\n",
              "      <td>0.0831</td>\n",
              "      <td>0.0184</td>\n",
              "      <td>-0.5495</td>\n",
              "      <td>0.0457</td>\n",
              "      <td>-0.1848</td>\n",
              "    </tr>\n",
              "    <tr>\n",
              "      <th>Sex</th>\n",
              "      <td>0.5434</td>\n",
              "      <td>-0.1319</td>\n",
              "      <td>1.0000</td>\n",
              "      <td>-0.1174</td>\n",
              "      <td>0.1146</td>\n",
              "      <td>0.2455</td>\n",
              "      <td>0.1823</td>\n",
              "      <td>0.1166</td>\n",
              "      <td>0.5081</td>\n",
              "    </tr>\n",
              "    <tr>\n",
              "      <th>Age</th>\n",
              "      <td>-0.0892</td>\n",
              "      <td>-0.3436</td>\n",
              "      <td>-0.1174</td>\n",
              "      <td>1.0000</td>\n",
              "      <td>-0.2677</td>\n",
              "      <td>-0.1968</td>\n",
              "      <td>0.0911</td>\n",
              "      <td>-0.0168</td>\n",
              "      <td>-0.1266</td>\n",
              "    </tr>\n",
              "    <tr>\n",
              "      <th>SibSp</th>\n",
              "      <td>-0.0353</td>\n",
              "      <td>0.0831</td>\n",
              "      <td>0.1146</td>\n",
              "      <td>-0.2677</td>\n",
              "      <td>1.0000</td>\n",
              "      <td>0.4148</td>\n",
              "      <td>0.1597</td>\n",
              "      <td>-0.0600</td>\n",
              "      <td>0.2584</td>\n",
              "    </tr>\n",
              "    <tr>\n",
              "      <th>Parch</th>\n",
              "      <td>0.0816</td>\n",
              "      <td>0.0184</td>\n",
              "      <td>0.2455</td>\n",
              "      <td>-0.1968</td>\n",
              "      <td>0.4148</td>\n",
              "      <td>1.0000</td>\n",
              "      <td>0.2162</td>\n",
              "      <td>-0.0787</td>\n",
              "      <td>0.3036</td>\n",
              "    </tr>\n",
              "    <tr>\n",
              "      <th>Fare</th>\n",
              "      <td>0.2573</td>\n",
              "      <td>-0.5495</td>\n",
              "      <td>0.1823</td>\n",
              "      <td>0.0911</td>\n",
              "      <td>0.1597</td>\n",
              "      <td>0.2162</td>\n",
              "      <td>1.0000</td>\n",
              "      <td>0.0621</td>\n",
              "      <td>0.1373</td>\n",
              "    </tr>\n",
              "    <tr>\n",
              "      <th>Embarked</th>\n",
              "      <td>0.1068</td>\n",
              "      <td>0.0457</td>\n",
              "      <td>0.1166</td>\n",
              "      <td>-0.0168</td>\n",
              "      <td>-0.0600</td>\n",
              "      <td>-0.0787</td>\n",
              "      <td>0.0621</td>\n",
              "      <td>1.0000</td>\n",
              "      <td>0.0512</td>\n",
              "    </tr>\n",
              "    <tr>\n",
              "      <th>Title</th>\n",
              "      <td>0.4141</td>\n",
              "      <td>-0.1848</td>\n",
              "      <td>0.5081</td>\n",
              "      <td>-0.1266</td>\n",
              "      <td>0.2584</td>\n",
              "      <td>0.3036</td>\n",
              "      <td>0.1373</td>\n",
              "      <td>0.0512</td>\n",
              "      <td>1.0000</td>\n",
              "    </tr>\n",
              "  </tbody>\n",
              "</table>\n",
              "</div>\n",
              "      <button class=\"colab-df-convert\" onclick=\"convertToInteractive('df-9d7b3655-4f58-440f-9050-7ce84dbd7864')\"\n",
              "              title=\"Convert this dataframe to an interactive table.\"\n",
              "              style=\"display:none;\">\n",
              "        \n",
              "  <svg xmlns=\"http://www.w3.org/2000/svg\" height=\"24px\"viewBox=\"0 0 24 24\"\n",
              "       width=\"24px\">\n",
              "    <path d=\"M0 0h24v24H0V0z\" fill=\"none\"/>\n",
              "    <path d=\"M18.56 5.44l.94 2.06.94-2.06 2.06-.94-2.06-.94-.94-2.06-.94 2.06-2.06.94zm-11 1L8.5 8.5l.94-2.06 2.06-.94-2.06-.94L8.5 2.5l-.94 2.06-2.06.94zm10 10l.94 2.06.94-2.06 2.06-.94-2.06-.94-.94-2.06-.94 2.06-2.06.94z\"/><path d=\"M17.41 7.96l-1.37-1.37c-.4-.4-.92-.59-1.43-.59-.52 0-1.04.2-1.43.59L10.3 9.45l-7.72 7.72c-.78.78-.78 2.05 0 2.83L4 21.41c.39.39.9.59 1.41.59.51 0 1.02-.2 1.41-.59l7.78-7.78 2.81-2.81c.8-.78.8-2.07 0-2.86zM5.41 20L4 18.59l7.72-7.72 1.47 1.35L5.41 20z\"/>\n",
              "  </svg>\n",
              "      </button>\n",
              "      \n",
              "  <style>\n",
              "    .colab-df-container {\n",
              "      display:flex;\n",
              "      flex-wrap:wrap;\n",
              "      gap: 12px;\n",
              "    }\n",
              "\n",
              "    .colab-df-convert {\n",
              "      background-color: #E8F0FE;\n",
              "      border: none;\n",
              "      border-radius: 50%;\n",
              "      cursor: pointer;\n",
              "      display: none;\n",
              "      fill: #1967D2;\n",
              "      height: 32px;\n",
              "      padding: 0 0 0 0;\n",
              "      width: 32px;\n",
              "    }\n",
              "\n",
              "    .colab-df-convert:hover {\n",
              "      background-color: #E2EBFA;\n",
              "      box-shadow: 0px 1px 2px rgba(60, 64, 67, 0.3), 0px 1px 3px 1px rgba(60, 64, 67, 0.15);\n",
              "      fill: #174EA6;\n",
              "    }\n",
              "\n",
              "    [theme=dark] .colab-df-convert {\n",
              "      background-color: #3B4455;\n",
              "      fill: #D2E3FC;\n",
              "    }\n",
              "\n",
              "    [theme=dark] .colab-df-convert:hover {\n",
              "      background-color: #434B5C;\n",
              "      box-shadow: 0px 1px 3px 1px rgba(0, 0, 0, 0.15);\n",
              "      filter: drop-shadow(0px 1px 2px rgba(0, 0, 0, 0.3));\n",
              "      fill: #FFFFFF;\n",
              "    }\n",
              "  </style>\n",
              "\n",
              "      <script>\n",
              "        const buttonEl =\n",
              "          document.querySelector('#df-9d7b3655-4f58-440f-9050-7ce84dbd7864 button.colab-df-convert');\n",
              "        buttonEl.style.display =\n",
              "          google.colab.kernel.accessAllowed ? 'block' : 'none';\n",
              "\n",
              "        async function convertToInteractive(key) {\n",
              "          const element = document.querySelector('#df-9d7b3655-4f58-440f-9050-7ce84dbd7864');\n",
              "          const dataTable =\n",
              "            await google.colab.kernel.invokeFunction('convertToInteractive',\n",
              "                                                     [key], {});\n",
              "          if (!dataTable) return;\n",
              "\n",
              "          const docLinkHtml = 'Like what you see? Visit the ' +\n",
              "            '<a target=\"_blank\" href=https://colab.research.google.com/notebooks/data_table.ipynb>data table notebook</a>'\n",
              "            + ' to learn more about interactive tables.';\n",
              "          element.innerHTML = '';\n",
              "          dataTable['output_type'] = 'display_data';\n",
              "          await google.colab.output.renderOutput(dataTable, element);\n",
              "          const docLink = document.createElement('div');\n",
              "          docLink.innerHTML = docLinkHtml;\n",
              "          element.appendChild(docLink);\n",
              "        }\n",
              "      </script>\n",
              "    </div>\n",
              "  </div>\n",
              "  "
            ],
            "text/plain": [
              "          Survived  Pclass     Sex     Age   SibSp   Parch    Fare  Embarked  \\\n",
              "Survived    1.0000 -0.3385  0.5434 -0.0892 -0.0353  0.0816  0.2573    0.1068   \n",
              "Pclass     -0.3385  1.0000 -0.1319 -0.3436  0.0831  0.0184 -0.5495    0.0457   \n",
              "Sex         0.5434 -0.1319  1.0000 -0.1174  0.1146  0.2455  0.1823    0.1166   \n",
              "Age        -0.0892 -0.3436 -0.1174  1.0000 -0.2677 -0.1968  0.0911   -0.0168   \n",
              "SibSp      -0.0353  0.0831  0.1146 -0.2677  1.0000  0.4148  0.1597   -0.0600   \n",
              "Parch       0.0816  0.0184  0.2455 -0.1968  0.4148  1.0000  0.2162   -0.0787   \n",
              "Fare        0.2573 -0.5495  0.1823  0.0911  0.1597  0.2162  1.0000    0.0621   \n",
              "Embarked    0.1068  0.0457  0.1166 -0.0168 -0.0600 -0.0787  0.0621    1.0000   \n",
              "Title       0.4141 -0.1848  0.5081 -0.1266  0.2584  0.3036  0.1373    0.0512   \n",
              "\n",
              "           Title  \n",
              "Survived  0.4141  \n",
              "Pclass   -0.1848  \n",
              "Sex       0.5081  \n",
              "Age      -0.1266  \n",
              "SibSp     0.2584  \n",
              "Parch     0.3036  \n",
              "Fare      0.1373  \n",
              "Embarked  0.0512  \n",
              "Title     1.0000  "
            ]
          },
          "execution_count": 326,
          "metadata": {},
          "output_type": "execute_result"
        }
      ],
      "source": [
        "df_corr = df.corr()\n",
        "\n",
        "df_corr"
      ]
    },
    {
      "cell_type": "code",
      "execution_count": null,
      "metadata": {
        "colab": {
          "base_uri": "https://localhost:8080/",
          "height": 542
        },
        "id": "U2XzZt5Y61r8",
        "outputId": "a913f4d1-d026-457e-cf44-3b0c2dda8c71"
      },
      "outputs": [
        {
          "data": {
            "text/html": [
              "<html>\n",
              "<head><meta charset=\"utf-8\" /></head>\n",
              "<body>\n",
              "    <div>            <script src=\"https://cdnjs.cloudflare.com/ajax/libs/mathjax/2.7.5/MathJax.js?config=TeX-AMS-MML_SVG\"></script><script type=\"text/javascript\">if (window.MathJax) {MathJax.Hub.Config({SVG: {font: \"STIX-Web\"}});}</script>                <script type=\"text/javascript\">window.PlotlyConfig = {MathJaxConfig: 'local'};</script>\n",
              "        <script src=\"https://cdn.plot.ly/plotly-2.8.3.min.js\"></script>                <div id=\"7be44f2f-102e-4b61-989c-ad9e77b38dfe\" class=\"plotly-graph-div\" style=\"height:525px; width:100%;\"></div>            <script type=\"text/javascript\">                                    window.PLOTLYENV=window.PLOTLYENV || {};                                    if (document.getElementById(\"7be44f2f-102e-4b61-989c-ad9e77b38dfe\")) {                    Plotly.newPlot(                        \"7be44f2f-102e-4b61-989c-ad9e77b38dfe\",                        [{\"coloraxis\":\"coloraxis\",\"name\":\"0\",\"texttemplate\":\"%{z}\",\"x\":[\"Survived\",\"Pclass\",\"Sex\",\"Age\",\"SibSp\",\"Parch\",\"Fare\",\"Embarked\",\"Title\"],\"y\":[\"Survived\",\"Pclass\",\"Sex\",\"Age\",\"SibSp\",\"Parch\",\"Fare\",\"Embarked\",\"Title\"],\"z\":[[1.0,-0.33848103596101514,0.5433513806577549,-0.08915827593410967,-0.035322498885735576,0.08162940708348335,0.2573065223849626,0.10681138570891952,0.4140875703251753],[-0.33848103596101514,1.0,-0.13190049060473927,-0.3436075086098455,0.08308136284568686,0.018442671310748508,-0.5494996199439076,0.04570184686313677,-0.18484118755123335],[0.5433513806577549,-0.13190049060473927,1.0,-0.11737183360298754,0.11463081038942237,0.2454889600906989,0.18233283380287013,0.11656943282906834,0.5080987419775355],[-0.08915827593410967,-0.3436075086098455,-0.11737183360298754,1.0,-0.26766754922030284,-0.19681111793384254,0.09109730342538731,-0.01677514507428554,-0.12664610631385131],[-0.035322498885735576,0.08308136284568686,0.11463081038942237,-0.26766754922030284,1.0,0.41483769862015624,0.159651043242161,-0.05996144194119927,0.25840317647529804],[0.08162940708348335,0.018442671310748508,0.2454889600906989,-0.19681111793384254,0.41483769862015624,1.0,0.21622494477076448,-0.07866469555645676,0.30360775941005896],[0.2573065223849626,-0.5494996199439076,0.18233283380287013,0.09109730342538731,0.159651043242161,0.21622494477076448,1.0,0.06214157262848517,0.1373184081661672],[0.10681138570891952,0.04570184686313677,0.11656943282906834,-0.01677514507428554,-0.05996144194119927,-0.07866469555645676,0.06214157262848517,1.0,0.05121113179236651],[0.4140875703251753,-0.18484118755123335,0.5080987419775355,-0.12664610631385131,0.25840317647529804,0.30360775941005896,0.1373184081661672,0.05121113179236651,1.0]],\"type\":\"heatmap\",\"xaxis\":\"x\",\"yaxis\":\"y\",\"hovertemplate\":\"x: %{x}<br>y: %{y}<br>color: %{z}<extra></extra>\"}],                        {\"template\":{\"data\":{\"bar\":[{\"error_x\":{\"color\":\"#2a3f5f\"},\"error_y\":{\"color\":\"#2a3f5f\"},\"marker\":{\"line\":{\"color\":\"#E5ECF6\",\"width\":0.5},\"pattern\":{\"fillmode\":\"overlay\",\"size\":10,\"solidity\":0.2}},\"type\":\"bar\"}],\"barpolar\":[{\"marker\":{\"line\":{\"color\":\"#E5ECF6\",\"width\":0.5},\"pattern\":{\"fillmode\":\"overlay\",\"size\":10,\"solidity\":0.2}},\"type\":\"barpolar\"}],\"carpet\":[{\"aaxis\":{\"endlinecolor\":\"#2a3f5f\",\"gridcolor\":\"white\",\"linecolor\":\"white\",\"minorgridcolor\":\"white\",\"startlinecolor\":\"#2a3f5f\"},\"baxis\":{\"endlinecolor\":\"#2a3f5f\",\"gridcolor\":\"white\",\"linecolor\":\"white\",\"minorgridcolor\":\"white\",\"startlinecolor\":\"#2a3f5f\"},\"type\":\"carpet\"}],\"choropleth\":[{\"colorbar\":{\"outlinewidth\":0,\"ticks\":\"\"},\"type\":\"choropleth\"}],\"contour\":[{\"colorbar\":{\"outlinewidth\":0,\"ticks\":\"\"},\"colorscale\":[[0.0,\"#0d0887\"],[0.1111111111111111,\"#46039f\"],[0.2222222222222222,\"#7201a8\"],[0.3333333333333333,\"#9c179e\"],[0.4444444444444444,\"#bd3786\"],[0.5555555555555556,\"#d8576b\"],[0.6666666666666666,\"#ed7953\"],[0.7777777777777778,\"#fb9f3a\"],[0.8888888888888888,\"#fdca26\"],[1.0,\"#f0f921\"]],\"type\":\"contour\"}],\"contourcarpet\":[{\"colorbar\":{\"outlinewidth\":0,\"ticks\":\"\"},\"type\":\"contourcarpet\"}],\"heatmap\":[{\"colorbar\":{\"outlinewidth\":0,\"ticks\":\"\"},\"colorscale\":[[0.0,\"#0d0887\"],[0.1111111111111111,\"#46039f\"],[0.2222222222222222,\"#7201a8\"],[0.3333333333333333,\"#9c179e\"],[0.4444444444444444,\"#bd3786\"],[0.5555555555555556,\"#d8576b\"],[0.6666666666666666,\"#ed7953\"],[0.7777777777777778,\"#fb9f3a\"],[0.8888888888888888,\"#fdca26\"],[1.0,\"#f0f921\"]],\"type\":\"heatmap\"}],\"heatmapgl\":[{\"colorbar\":{\"outlinewidth\":0,\"ticks\":\"\"},\"colorscale\":[[0.0,\"#0d0887\"],[0.1111111111111111,\"#46039f\"],[0.2222222222222222,\"#7201a8\"],[0.3333333333333333,\"#9c179e\"],[0.4444444444444444,\"#bd3786\"],[0.5555555555555556,\"#d8576b\"],[0.6666666666666666,\"#ed7953\"],[0.7777777777777778,\"#fb9f3a\"],[0.8888888888888888,\"#fdca26\"],[1.0,\"#f0f921\"]],\"type\":\"heatmapgl\"}],\"histogram\":[{\"marker\":{\"pattern\":{\"fillmode\":\"overlay\",\"size\":10,\"solidity\":0.2}},\"type\":\"histogram\"}],\"histogram2d\":[{\"colorbar\":{\"outlinewidth\":0,\"ticks\":\"\"},\"colorscale\":[[0.0,\"#0d0887\"],[0.1111111111111111,\"#46039f\"],[0.2222222222222222,\"#7201a8\"],[0.3333333333333333,\"#9c179e\"],[0.4444444444444444,\"#bd3786\"],[0.5555555555555556,\"#d8576b\"],[0.6666666666666666,\"#ed7953\"],[0.7777777777777778,\"#fb9f3a\"],[0.8888888888888888,\"#fdca26\"],[1.0,\"#f0f921\"]],\"type\":\"histogram2d\"}],\"histogram2dcontour\":[{\"colorbar\":{\"outlinewidth\":0,\"ticks\":\"\"},\"colorscale\":[[0.0,\"#0d0887\"],[0.1111111111111111,\"#46039f\"],[0.2222222222222222,\"#7201a8\"],[0.3333333333333333,\"#9c179e\"],[0.4444444444444444,\"#bd3786\"],[0.5555555555555556,\"#d8576b\"],[0.6666666666666666,\"#ed7953\"],[0.7777777777777778,\"#fb9f3a\"],[0.8888888888888888,\"#fdca26\"],[1.0,\"#f0f921\"]],\"type\":\"histogram2dcontour\"}],\"mesh3d\":[{\"colorbar\":{\"outlinewidth\":0,\"ticks\":\"\"},\"type\":\"mesh3d\"}],\"parcoords\":[{\"line\":{\"colorbar\":{\"outlinewidth\":0,\"ticks\":\"\"}},\"type\":\"parcoords\"}],\"pie\":[{\"automargin\":true,\"type\":\"pie\"}],\"scatter\":[{\"marker\":{\"colorbar\":{\"outlinewidth\":0,\"ticks\":\"\"}},\"type\":\"scatter\"}],\"scatter3d\":[{\"line\":{\"colorbar\":{\"outlinewidth\":0,\"ticks\":\"\"}},\"marker\":{\"colorbar\":{\"outlinewidth\":0,\"ticks\":\"\"}},\"type\":\"scatter3d\"}],\"scattercarpet\":[{\"marker\":{\"colorbar\":{\"outlinewidth\":0,\"ticks\":\"\"}},\"type\":\"scattercarpet\"}],\"scattergeo\":[{\"marker\":{\"colorbar\":{\"outlinewidth\":0,\"ticks\":\"\"}},\"type\":\"scattergeo\"}],\"scattergl\":[{\"marker\":{\"colorbar\":{\"outlinewidth\":0,\"ticks\":\"\"}},\"type\":\"scattergl\"}],\"scattermapbox\":[{\"marker\":{\"colorbar\":{\"outlinewidth\":0,\"ticks\":\"\"}},\"type\":\"scattermapbox\"}],\"scatterpolar\":[{\"marker\":{\"colorbar\":{\"outlinewidth\":0,\"ticks\":\"\"}},\"type\":\"scatterpolar\"}],\"scatterpolargl\":[{\"marker\":{\"colorbar\":{\"outlinewidth\":0,\"ticks\":\"\"}},\"type\":\"scatterpolargl\"}],\"scatterternary\":[{\"marker\":{\"colorbar\":{\"outlinewidth\":0,\"ticks\":\"\"}},\"type\":\"scatterternary\"}],\"surface\":[{\"colorbar\":{\"outlinewidth\":0,\"ticks\":\"\"},\"colorscale\":[[0.0,\"#0d0887\"],[0.1111111111111111,\"#46039f\"],[0.2222222222222222,\"#7201a8\"],[0.3333333333333333,\"#9c179e\"],[0.4444444444444444,\"#bd3786\"],[0.5555555555555556,\"#d8576b\"],[0.6666666666666666,\"#ed7953\"],[0.7777777777777778,\"#fb9f3a\"],[0.8888888888888888,\"#fdca26\"],[1.0,\"#f0f921\"]],\"type\":\"surface\"}],\"table\":[{\"cells\":{\"fill\":{\"color\":\"#EBF0F8\"},\"line\":{\"color\":\"white\"}},\"header\":{\"fill\":{\"color\":\"#C8D4E3\"},\"line\":{\"color\":\"white\"}},\"type\":\"table\"}]},\"layout\":{\"annotationdefaults\":{\"arrowcolor\":\"#2a3f5f\",\"arrowhead\":0,\"arrowwidth\":1},\"autotypenumbers\":\"strict\",\"coloraxis\":{\"colorbar\":{\"outlinewidth\":0,\"ticks\":\"\"}},\"colorscale\":{\"diverging\":[[0,\"#8e0152\"],[0.1,\"#c51b7d\"],[0.2,\"#de77ae\"],[0.3,\"#f1b6da\"],[0.4,\"#fde0ef\"],[0.5,\"#f7f7f7\"],[0.6,\"#e6f5d0\"],[0.7,\"#b8e186\"],[0.8,\"#7fbc41\"],[0.9,\"#4d9221\"],[1,\"#276419\"]],\"sequential\":[[0.0,\"#0d0887\"],[0.1111111111111111,\"#46039f\"],[0.2222222222222222,\"#7201a8\"],[0.3333333333333333,\"#9c179e\"],[0.4444444444444444,\"#bd3786\"],[0.5555555555555556,\"#d8576b\"],[0.6666666666666666,\"#ed7953\"],[0.7777777777777778,\"#fb9f3a\"],[0.8888888888888888,\"#fdca26\"],[1.0,\"#f0f921\"]],\"sequentialminus\":[[0.0,\"#0d0887\"],[0.1111111111111111,\"#46039f\"],[0.2222222222222222,\"#7201a8\"],[0.3333333333333333,\"#9c179e\"],[0.4444444444444444,\"#bd3786\"],[0.5555555555555556,\"#d8576b\"],[0.6666666666666666,\"#ed7953\"],[0.7777777777777778,\"#fb9f3a\"],[0.8888888888888888,\"#fdca26\"],[1.0,\"#f0f921\"]]},\"colorway\":[\"#636efa\",\"#EF553B\",\"#00cc96\",\"#ab63fa\",\"#FFA15A\",\"#19d3f3\",\"#FF6692\",\"#B6E880\",\"#FF97FF\",\"#FECB52\"],\"font\":{\"color\":\"#2a3f5f\"},\"geo\":{\"bgcolor\":\"white\",\"lakecolor\":\"white\",\"landcolor\":\"#E5ECF6\",\"showlakes\":true,\"showland\":true,\"subunitcolor\":\"white\"},\"hoverlabel\":{\"align\":\"left\"},\"hovermode\":\"closest\",\"mapbox\":{\"style\":\"light\"},\"paper_bgcolor\":\"white\",\"plot_bgcolor\":\"#E5ECF6\",\"polar\":{\"angularaxis\":{\"gridcolor\":\"white\",\"linecolor\":\"white\",\"ticks\":\"\"},\"bgcolor\":\"#E5ECF6\",\"radialaxis\":{\"gridcolor\":\"white\",\"linecolor\":\"white\",\"ticks\":\"\"}},\"scene\":{\"xaxis\":{\"backgroundcolor\":\"#E5ECF6\",\"gridcolor\":\"white\",\"gridwidth\":2,\"linecolor\":\"white\",\"showbackground\":true,\"ticks\":\"\",\"zerolinecolor\":\"white\"},\"yaxis\":{\"backgroundcolor\":\"#E5ECF6\",\"gridcolor\":\"white\",\"gridwidth\":2,\"linecolor\":\"white\",\"showbackground\":true,\"ticks\":\"\",\"zerolinecolor\":\"white\"},\"zaxis\":{\"backgroundcolor\":\"#E5ECF6\",\"gridcolor\":\"white\",\"gridwidth\":2,\"linecolor\":\"white\",\"showbackground\":true,\"ticks\":\"\",\"zerolinecolor\":\"white\"}},\"shapedefaults\":{\"line\":{\"color\":\"#2a3f5f\"}},\"ternary\":{\"aaxis\":{\"gridcolor\":\"white\",\"linecolor\":\"white\",\"ticks\":\"\"},\"baxis\":{\"gridcolor\":\"white\",\"linecolor\":\"white\",\"ticks\":\"\"},\"bgcolor\":\"#E5ECF6\",\"caxis\":{\"gridcolor\":\"white\",\"linecolor\":\"white\",\"ticks\":\"\"}},\"title\":{\"x\":0.05},\"xaxis\":{\"automargin\":true,\"gridcolor\":\"white\",\"linecolor\":\"white\",\"ticks\":\"\",\"title\":{\"standoff\":15},\"zerolinecolor\":\"white\",\"zerolinewidth\":2},\"yaxis\":{\"automargin\":true,\"gridcolor\":\"white\",\"linecolor\":\"white\",\"ticks\":\"\",\"title\":{\"standoff\":15},\"zerolinecolor\":\"white\",\"zerolinewidth\":2}}},\"xaxis\":{\"anchor\":\"y\",\"domain\":[0.0,1.0],\"scaleanchor\":\"y\",\"constrain\":\"domain\"},\"yaxis\":{\"anchor\":\"x\",\"domain\":[0.0,1.0],\"autorange\":\"reversed\",\"constrain\":\"domain\"},\"coloraxis\":{\"colorscale\":[[0.0,\"rgb(5,48,97)\"],[0.1,\"rgb(33,102,172)\"],[0.2,\"rgb(67,147,195)\"],[0.3,\"rgb(146,197,222)\"],[0.4,\"rgb(209,229,240)\"],[0.5,\"rgb(247,247,247)\"],[0.6,\"rgb(253,219,199)\"],[0.7,\"rgb(244,165,130)\"],[0.8,\"rgb(214,96,77)\"],[0.9,\"rgb(178,24,43)\"],[1.0,\"rgb(103,0,31)\"]]},\"title\":{\"text\":\"\\uc0c1\\uad00\\uad00\\uacc4 \\ud788\\ud2b8\\ub9f5\"}},                        {\"responsive\": true}                    ).then(function(){\n",
              "                            \n",
              "var gd = document.getElementById('7be44f2f-102e-4b61-989c-ad9e77b38dfe');\n",
              "var x = new MutationObserver(function (mutations, observer) {{\n",
              "        var display = window.getComputedStyle(gd).display;\n",
              "        if (!display || display === 'none') {{\n",
              "            console.log([gd, 'removed!']);\n",
              "            Plotly.purge(gd);\n",
              "            observer.disconnect();\n",
              "        }}\n",
              "}});\n",
              "\n",
              "// Listen for the removal of the full notebook cells\n",
              "var notebookContainer = gd.closest('#notebook-container');\n",
              "if (notebookContainer) {{\n",
              "    x.observe(notebookContainer, {childList: true});\n",
              "}}\n",
              "\n",
              "// Listen for the clearing of the current output cell\n",
              "var outputEl = gd.closest('.output');\n",
              "if (outputEl) {{\n",
              "    x.observe(outputEl, {childList: true});\n",
              "}}\n",
              "\n",
              "                        })                };                            </script>        </div>\n",
              "</body>\n",
              "</html>"
            ]
          },
          "metadata": {},
          "output_type": "display_data"
        }
      ],
      "source": [
        "import plotly.express as px\n",
        "\n",
        "fig = px.imshow(df_corr,text_auto=True, color_continuous_scale='RdBu_r',title='상관관계 히트맵')\n",
        "fig.show()"
      ]
    },
    {
      "cell_type": "markdown",
      "metadata": {
        "id": "jkRu5Gur71pX"
      },
      "source": [
        "- 'Sex'와 'Title'이 각각 0.54, 0.41로 상관계수가 유의미하게 나왔다. 'Title'을 버릴 수도 있었지만, 빈도순으로 인코딩을 한 게 유의미한 행동이었다.\n",
        "\n",
        "- 생각보다 'Age'가 매우 낮게 (0.1미만으로) 나와서 당황스러움. 노약자와 유소년층을 배려해서 구조하진 않았나보다... "
      ]
    },
    {
      "cell_type": "markdown",
      "metadata": {
        "id": "wWUGV7UV9qM9"
      },
      "source": [
        "## Age Category 분류"
      ]
    },
    {
      "cell_type": "code",
      "execution_count": null,
      "metadata": {
        "colab": {
          "base_uri": "https://localhost:8080/"
        },
        "id": "9bZ_P9LmDMlv",
        "outputId": "fecb7411-90b2-4002-c4c5-fd2b5038c105"
      },
      "outputs": [
        {
          "data": {
            "text/plain": [
              "0    891\n",
              "Name: Weak, dtype: int64"
            ]
          },
          "execution_count": 373,
          "metadata": {},
          "output_type": "execute_result"
        }
      ],
      "source": [
        "df_age = df.copy()\n",
        "\n",
        "df_age['Weak'] = 0\n",
        "\n",
        "df_age['Weak'].value_counts()"
      ]
    },
    {
      "cell_type": "code",
      "execution_count": null,
      "metadata": {
        "colab": {
          "base_uri": "https://localhost:8080/",
          "height": 424
        },
        "id": "pf43nOLbHGX-",
        "outputId": "e43b509c-ec92-4ec3-f2cb-5a3c09f64644"
      },
      "outputs": [
        {
          "data": {
            "text/html": [
              "\n",
              "  <div id=\"df-9eed4441-5f3d-429f-ba24-0539298bff52\">\n",
              "    <div class=\"colab-df-container\">\n",
              "      <div>\n",
              "<style scoped>\n",
              "    .dataframe tbody tr th:only-of-type {\n",
              "        vertical-align: middle;\n",
              "    }\n",
              "\n",
              "    .dataframe tbody tr th {\n",
              "        vertical-align: top;\n",
              "    }\n",
              "\n",
              "    .dataframe thead th {\n",
              "        text-align: right;\n",
              "    }\n",
              "</style>\n",
              "<table border=\"1\" class=\"dataframe\">\n",
              "  <thead>\n",
              "    <tr style=\"text-align: right;\">\n",
              "      <th></th>\n",
              "      <th>Survived</th>\n",
              "      <th>Pclass</th>\n",
              "      <th>Sex</th>\n",
              "      <th>Age</th>\n",
              "      <th>SibSp</th>\n",
              "      <th>Parch</th>\n",
              "      <th>Fare</th>\n",
              "      <th>Embarked</th>\n",
              "      <th>Title</th>\n",
              "      <th>Weak</th>\n",
              "    </tr>\n",
              "  </thead>\n",
              "  <tbody>\n",
              "    <tr>\n",
              "      <th>0</th>\n",
              "      <td>0</td>\n",
              "      <td>3</td>\n",
              "      <td>0</td>\n",
              "      <td>22.0000</td>\n",
              "      <td>1</td>\n",
              "      <td>0</td>\n",
              "      <td>7.2500</td>\n",
              "      <td>0</td>\n",
              "      <td>0</td>\n",
              "      <td>0</td>\n",
              "    </tr>\n",
              "    <tr>\n",
              "      <th>1</th>\n",
              "      <td>1</td>\n",
              "      <td>1</td>\n",
              "      <td>1</td>\n",
              "      <td>38.0000</td>\n",
              "      <td>1</td>\n",
              "      <td>0</td>\n",
              "      <td>71.2833</td>\n",
              "      <td>1</td>\n",
              "      <td>2</td>\n",
              "      <td>0</td>\n",
              "    </tr>\n",
              "    <tr>\n",
              "      <th>2</th>\n",
              "      <td>1</td>\n",
              "      <td>3</td>\n",
              "      <td>1</td>\n",
              "      <td>26.0000</td>\n",
              "      <td>0</td>\n",
              "      <td>0</td>\n",
              "      <td>7.9250</td>\n",
              "      <td>0</td>\n",
              "      <td>1</td>\n",
              "      <td>0</td>\n",
              "    </tr>\n",
              "    <tr>\n",
              "      <th>3</th>\n",
              "      <td>1</td>\n",
              "      <td>1</td>\n",
              "      <td>1</td>\n",
              "      <td>35.0000</td>\n",
              "      <td>1</td>\n",
              "      <td>0</td>\n",
              "      <td>53.1000</td>\n",
              "      <td>0</td>\n",
              "      <td>2</td>\n",
              "      <td>0</td>\n",
              "    </tr>\n",
              "    <tr>\n",
              "      <th>4</th>\n",
              "      <td>0</td>\n",
              "      <td>3</td>\n",
              "      <td>0</td>\n",
              "      <td>35.0000</td>\n",
              "      <td>0</td>\n",
              "      <td>0</td>\n",
              "      <td>8.0500</td>\n",
              "      <td>0</td>\n",
              "      <td>0</td>\n",
              "      <td>0</td>\n",
              "    </tr>\n",
              "    <tr>\n",
              "      <th>...</th>\n",
              "      <td>...</td>\n",
              "      <td>...</td>\n",
              "      <td>...</td>\n",
              "      <td>...</td>\n",
              "      <td>...</td>\n",
              "      <td>...</td>\n",
              "      <td>...</td>\n",
              "      <td>...</td>\n",
              "      <td>...</td>\n",
              "      <td>...</td>\n",
              "    </tr>\n",
              "    <tr>\n",
              "      <th>886</th>\n",
              "      <td>0</td>\n",
              "      <td>2</td>\n",
              "      <td>0</td>\n",
              "      <td>27.0000</td>\n",
              "      <td>0</td>\n",
              "      <td>0</td>\n",
              "      <td>13.0000</td>\n",
              "      <td>0</td>\n",
              "      <td>4</td>\n",
              "      <td>0</td>\n",
              "    </tr>\n",
              "    <tr>\n",
              "      <th>887</th>\n",
              "      <td>1</td>\n",
              "      <td>1</td>\n",
              "      <td>1</td>\n",
              "      <td>19.0000</td>\n",
              "      <td>0</td>\n",
              "      <td>0</td>\n",
              "      <td>30.0000</td>\n",
              "      <td>0</td>\n",
              "      <td>1</td>\n",
              "      <td>0</td>\n",
              "    </tr>\n",
              "    <tr>\n",
              "      <th>888</th>\n",
              "      <td>0</td>\n",
              "      <td>3</td>\n",
              "      <td>1</td>\n",
              "      <td>21.7740</td>\n",
              "      <td>1</td>\n",
              "      <td>2</td>\n",
              "      <td>23.4500</td>\n",
              "      <td>0</td>\n",
              "      <td>1</td>\n",
              "      <td>0</td>\n",
              "    </tr>\n",
              "    <tr>\n",
              "      <th>889</th>\n",
              "      <td>1</td>\n",
              "      <td>1</td>\n",
              "      <td>0</td>\n",
              "      <td>26.0000</td>\n",
              "      <td>0</td>\n",
              "      <td>0</td>\n",
              "      <td>30.0000</td>\n",
              "      <td>1</td>\n",
              "      <td>0</td>\n",
              "      <td>0</td>\n",
              "    </tr>\n",
              "    <tr>\n",
              "      <th>890</th>\n",
              "      <td>0</td>\n",
              "      <td>3</td>\n",
              "      <td>0</td>\n",
              "      <td>32.0000</td>\n",
              "      <td>0</td>\n",
              "      <td>0</td>\n",
              "      <td>7.7500</td>\n",
              "      <td>2</td>\n",
              "      <td>0</td>\n",
              "      <td>0</td>\n",
              "    </tr>\n",
              "  </tbody>\n",
              "</table>\n",
              "<p>891 rows × 10 columns</p>\n",
              "</div>\n",
              "      <button class=\"colab-df-convert\" onclick=\"convertToInteractive('df-9eed4441-5f3d-429f-ba24-0539298bff52')\"\n",
              "              title=\"Convert this dataframe to an interactive table.\"\n",
              "              style=\"display:none;\">\n",
              "        \n",
              "  <svg xmlns=\"http://www.w3.org/2000/svg\" height=\"24px\"viewBox=\"0 0 24 24\"\n",
              "       width=\"24px\">\n",
              "    <path d=\"M0 0h24v24H0V0z\" fill=\"none\"/>\n",
              "    <path d=\"M18.56 5.44l.94 2.06.94-2.06 2.06-.94-2.06-.94-.94-2.06-.94 2.06-2.06.94zm-11 1L8.5 8.5l.94-2.06 2.06-.94-2.06-.94L8.5 2.5l-.94 2.06-2.06.94zm10 10l.94 2.06.94-2.06 2.06-.94-2.06-.94-.94-2.06-.94 2.06-2.06.94z\"/><path d=\"M17.41 7.96l-1.37-1.37c-.4-.4-.92-.59-1.43-.59-.52 0-1.04.2-1.43.59L10.3 9.45l-7.72 7.72c-.78.78-.78 2.05 0 2.83L4 21.41c.39.39.9.59 1.41.59.51 0 1.02-.2 1.41-.59l7.78-7.78 2.81-2.81c.8-.78.8-2.07 0-2.86zM5.41 20L4 18.59l7.72-7.72 1.47 1.35L5.41 20z\"/>\n",
              "  </svg>\n",
              "      </button>\n",
              "      \n",
              "  <style>\n",
              "    .colab-df-container {\n",
              "      display:flex;\n",
              "      flex-wrap:wrap;\n",
              "      gap: 12px;\n",
              "    }\n",
              "\n",
              "    .colab-df-convert {\n",
              "      background-color: #E8F0FE;\n",
              "      border: none;\n",
              "      border-radius: 50%;\n",
              "      cursor: pointer;\n",
              "      display: none;\n",
              "      fill: #1967D2;\n",
              "      height: 32px;\n",
              "      padding: 0 0 0 0;\n",
              "      width: 32px;\n",
              "    }\n",
              "\n",
              "    .colab-df-convert:hover {\n",
              "      background-color: #E2EBFA;\n",
              "      box-shadow: 0px 1px 2px rgba(60, 64, 67, 0.3), 0px 1px 3px 1px rgba(60, 64, 67, 0.15);\n",
              "      fill: #174EA6;\n",
              "    }\n",
              "\n",
              "    [theme=dark] .colab-df-convert {\n",
              "      background-color: #3B4455;\n",
              "      fill: #D2E3FC;\n",
              "    }\n",
              "\n",
              "    [theme=dark] .colab-df-convert:hover {\n",
              "      background-color: #434B5C;\n",
              "      box-shadow: 0px 1px 3px 1px rgba(0, 0, 0, 0.15);\n",
              "      filter: drop-shadow(0px 1px 2px rgba(0, 0, 0, 0.3));\n",
              "      fill: #FFFFFF;\n",
              "    }\n",
              "  </style>\n",
              "\n",
              "      <script>\n",
              "        const buttonEl =\n",
              "          document.querySelector('#df-9eed4441-5f3d-429f-ba24-0539298bff52 button.colab-df-convert');\n",
              "        buttonEl.style.display =\n",
              "          google.colab.kernel.accessAllowed ? 'block' : 'none';\n",
              "\n",
              "        async function convertToInteractive(key) {\n",
              "          const element = document.querySelector('#df-9eed4441-5f3d-429f-ba24-0539298bff52');\n",
              "          const dataTable =\n",
              "            await google.colab.kernel.invokeFunction('convertToInteractive',\n",
              "                                                     [key], {});\n",
              "          if (!dataTable) return;\n",
              "\n",
              "          const docLinkHtml = 'Like what you see? Visit the ' +\n",
              "            '<a target=\"_blank\" href=https://colab.research.google.com/notebooks/data_table.ipynb>data table notebook</a>'\n",
              "            + ' to learn more about interactive tables.';\n",
              "          element.innerHTML = '';\n",
              "          dataTable['output_type'] = 'display_data';\n",
              "          await google.colab.output.renderOutput(dataTable, element);\n",
              "          const docLink = document.createElement('div');\n",
              "          docLink.innerHTML = docLinkHtml;\n",
              "          element.appendChild(docLink);\n",
              "        }\n",
              "      </script>\n",
              "    </div>\n",
              "  </div>\n",
              "  "
            ],
            "text/plain": [
              "     Survived  Pclass  Sex     Age  SibSp  Parch    Fare  Embarked  Title  \\\n",
              "0           0       3    0 22.0000      1      0  7.2500         0      0   \n",
              "1           1       1    1 38.0000      1      0 71.2833         1      2   \n",
              "2           1       3    1 26.0000      0      0  7.9250         0      1   \n",
              "3           1       1    1 35.0000      1      0 53.1000         0      2   \n",
              "4           0       3    0 35.0000      0      0  8.0500         0      0   \n",
              "..        ...     ...  ...     ...    ...    ...     ...       ...    ...   \n",
              "886         0       2    0 27.0000      0      0 13.0000         0      4   \n",
              "887         1       1    1 19.0000      0      0 30.0000         0      1   \n",
              "888         0       3    1 21.7740      1      2 23.4500         0      1   \n",
              "889         1       1    0 26.0000      0      0 30.0000         1      0   \n",
              "890         0       3    0 32.0000      0      0  7.7500         2      0   \n",
              "\n",
              "     Weak  \n",
              "0       0  \n",
              "1       0  \n",
              "2       0  \n",
              "3       0  \n",
              "4       0  \n",
              "..    ...  \n",
              "886     0  \n",
              "887     0  \n",
              "888     0  \n",
              "889     0  \n",
              "890     0  \n",
              "\n",
              "[891 rows x 10 columns]"
            ]
          },
          "execution_count": 374,
          "metadata": {},
          "output_type": "execute_result"
        }
      ],
      "source": [
        "df_age"
      ]
    },
    {
      "cell_type": "code",
      "execution_count": null,
      "metadata": {
        "colab": {
          "background_save": true,
          "base_uri": "https://localhost:8080/",
          "height": 239
        },
        "id": "Gxv1EFZAEezi",
        "outputId": "f4b22beb-8b7b-48ff-a821-571cda496cbf"
      },
      "outputs": [
        {
          "ename": "AttributeError",
          "evalue": "ignored",
          "output_type": "error",
          "traceback": [
            "\u001b[0;31m---------------------------------------------------------------------------\u001b[0m",
            "\u001b[0;31mAttributeError\u001b[0m                            Traceback (most recent call last)",
            "\u001b[0;32m<ipython-input-380-8696307930a6>\u001b[0m in \u001b[0;36m<module>\u001b[0;34m\u001b[0m\n\u001b[1;32m      1\u001b[0m \u001b[0;32mfor\u001b[0m \u001b[0mrow\u001b[0m \u001b[0;32min\u001b[0m \u001b[0mdf_age\u001b[0m\u001b[0;34m.\u001b[0m\u001b[0mindex\u001b[0m\u001b[0;34m:\u001b[0m\u001b[0;34m\u001b[0m\u001b[0;34m\u001b[0m\u001b[0m\n\u001b[1;32m      2\u001b[0m   \u001b[0;32mif\u001b[0m \u001b[0;34m(\u001b[0m\u001b[0mdf_age\u001b[0m\u001b[0;34m.\u001b[0m\u001b[0mloc\u001b[0m\u001b[0;34m[\u001b[0m\u001b[0mrow\u001b[0m\u001b[0;34m]\u001b[0m\u001b[0;34m[\u001b[0m\u001b[0;34m'Age'\u001b[0m\u001b[0;34m]\u001b[0m \u001b[0;34m<=\u001b[0m \u001b[0;36m12\u001b[0m\u001b[0;34m)\u001b[0m \u001b[0;32mor\u001b[0m \u001b[0;34m(\u001b[0m\u001b[0mdf_age\u001b[0m\u001b[0;34m.\u001b[0m\u001b[0mloc\u001b[0m\u001b[0;34m[\u001b[0m\u001b[0mrow\u001b[0m\u001b[0;34m]\u001b[0m\u001b[0;34m[\u001b[0m\u001b[0;34m'Age'\u001b[0m\u001b[0;34m]\u001b[0m \u001b[0;34m>=\u001b[0m \u001b[0;36m65\u001b[0m\u001b[0;34m)\u001b[0m\u001b[0;34m:\u001b[0m\u001b[0;34m\u001b[0m\u001b[0;34m\u001b[0m\u001b[0m\n\u001b[0;32m----> 3\u001b[0;31m     \u001b[0mdf_age\u001b[0m\u001b[0;34m.\u001b[0m\u001b[0mloc\u001b[0m\u001b[0;34m[\u001b[0m\u001b[0mrow\u001b[0m\u001b[0;34m]\u001b[0m\u001b[0;34m.\u001b[0m\u001b[0mWeak\u001b[0m\u001b[0;34m.\u001b[0m\u001b[0mreplace\u001b[0m\u001b[0;34m(\u001b[0m\u001b[0;36m0\u001b[0m\u001b[0;34m,\u001b[0m \u001b[0;36m1\u001b[0m\u001b[0;34m,\u001b[0m \u001b[0minplace\u001b[0m\u001b[0;34m=\u001b[0m\u001b[0;32mTrue\u001b[0m\u001b[0;34m)\u001b[0m\u001b[0;34m\u001b[0m\u001b[0;34m\u001b[0m\u001b[0m\n\u001b[0m\u001b[1;32m      4\u001b[0m \u001b[0;34m\u001b[0m\u001b[0m\n\u001b[1;32m      5\u001b[0m \u001b[0mdf_age\u001b[0m\u001b[0;34m[\u001b[0m\u001b[0;34m'Weak'\u001b[0m\u001b[0;34m]\u001b[0m\u001b[0;34m.\u001b[0m\u001b[0mvalue_counts\u001b[0m\u001b[0;34m(\u001b[0m\u001b[0;34m)\u001b[0m\u001b[0;34m\u001b[0m\u001b[0;34m\u001b[0m\u001b[0m\n",
            "\u001b[0;31mAttributeError\u001b[0m: 'numpy.float64' object has no attribute 'replace'"
          ]
        }
      ],
      "source": [
        "for row in df_age.index:\n",
        "  if (df_age.loc[row]['Age'] <= 12) or (df_age.loc[row]['Age'] >= 65):\n",
        "    df_age.loc[row]['Weak'].replace(0, 1, inplace=True)\n",
        "\n",
        "df_age['Weak'].value_counts()"
      ]
    },
    {
      "cell_type": "code",
      "execution_count": null,
      "metadata": {
        "colab": {
          "base_uri": "https://localhost:8080/"
        },
        "id": "zT1TOkR1GDNY",
        "outputId": "a6677123-6906-41bd-b40f-2507e9a7a373"
      },
      "outputs": [
        {
          "data": {
            "text/plain": [
              "0    891\n",
              "Name: Weak, dtype: int64"
            ]
          },
          "execution_count": 344,
          "metadata": {},
          "output_type": "execute_result"
        }
      ],
      "source": [
        "df['Weak'].value_counts()"
      ]
    },
    {
      "cell_type": "code",
      "execution_count": null,
      "metadata": {
        "id": "nD7_L5jWGG_Q"
      },
      "outputs": [],
      "source": []
    }
  ],
  "metadata": {
    "colab": {
      "collapsed_sections": [],
      "toc_visible": true,
      "provenance": [],
      "include_colab_link": true
    },
    "kernelspec": {
      "display_name": "Python 3",
      "name": "python3"
    },
    "language_info": {
      "name": "python"
    }
  },
  "nbformat": 4,
  "nbformat_minor": 0
}